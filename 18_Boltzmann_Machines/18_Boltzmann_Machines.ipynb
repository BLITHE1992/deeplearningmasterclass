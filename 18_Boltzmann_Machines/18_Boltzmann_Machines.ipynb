{
  "nbformat": 4,
  "nbformat_minor": 0,
  "metadata": {
    "kernelspec": {
      "name": "python3",
      "display_name": "Python 3"
    },
    "colab": {
      "name": "18_Boltzmann_Machines.ipynb",
      "provenance": []
    },
    "accelerator": "GPU"
  },
  "cells": [
    {
      "cell_type": "markdown",
      "metadata": {
        "id": "zg2c3t118Ou8"
      },
      "source": [
        "# **RESTRICTED BOLTZMANN MACHINES**\n"
      ]
    },
    {
      "cell_type": "markdown",
      "metadata": {
        "id": "qzkneIhc8Ou9"
      },
      "source": [
        "### **Introduction**\n",
        "<b>Restricted Boltzmann Machine (RBM):</b>  RBMs are shallow neural nets that learn to reconstruct data by themselves in an unsupervised fashion.  \n",
        "\n",
        "#### **Why are RBMs important?**\n",
        "An RBM are a basic form of autoencoder.  It can automatically extract <b>meaningful</b> features from a given input.\n",
        "\n",
        "## **How does it work?**\n",
        "RBM is a 2 layer neural network. Simply, RBM takes the inputs and translates those into a set of binary values that represents them in the hidden layer. Then, these numbers can be translated back to reconstruct the inputs. Through several forward and backward passes, the RBM will be trained, and a trained RBM can reveal which features are the most important ones when detecting patterns.   \n",
        "\n",
        "**What are the applications of an RBM?**\n",
        "RBM is useful for <a href='http://www.cs.utoronto.ca/~hinton/absps/netflixICML.pdf'>  Collaborative Filtering</a>, dimensionality reduction, classification, regression, feature learning, topic modeling and even <b>Deep Belief Networks</b>.\n",
        "\n",
        "**Is RBM a generative or Discriminative model?**\n",
        "\n",
        "RBM is a generative model. Let me explain it by first, see what is different between discriminative and generative models: \n",
        "\n",
        "<b>Discriminative:</b> Consider a classification problem where we want to learn to distinguish between Sedan cars (y = 1) and SUV cars (y = 0), based on some features of cars. Given a training set, an algorithm like logistic regression tries to find a straight line, or <i>decision boundary</i>, that separates the suv and sedan.  \n",
        "\n",
        "<b>Generative:</b> looking at cars, we can build a model of what Sedan cars look like. Then, looking at SUVs, we can build a separate model of what SUV cars look like. Finally, to classify a new car, we can match the new car against the Sedan model, and match it against the SUV model, to see whether the new car looks more like the SUV or Sedan. \n",
        "\n",
        "Generative Models specify a probability distribution over a dataset of input vectors. We can carry out both supervised and unsupervised tasks with generative models:\n",
        "\n",
        "* In an unsupervised task, we try to form a model for $P(x)$, where $P$ is the probability given $x$ as an input vector.</\n",
        "\n",
        "* In the supervised task, we first form a model for $P(x|y)$, where $P$ is the probability of $x$ given $y$(the label for $x$). \n",
        "\n",
        "For example, if $y = 0$ indicates that a car is an SUV, and $y = 1$ indicates that a car is a sedan, then $p(x|y = 0)$ models the distribution of SUV features, and $p(x|y = 1)$ models the distribution of sedan features. If we manage to find $P(x|y)$ and $P(y)$, then we can use <b>Bayes rule</b> to estimate $P(y|x)$, because:   \n",
        "        $$p(y|x) = \\frac{p(x|y)p(y)}{p(x)}$$\n",
        "\n",
        "\n",
        "\n",
        "Now the question is, can we build a generative model, and then use it to create synthetic data by directly sampling from the modeled probability distributions? Lets see. \n"
      ]
    },
    {
      "cell_type": "markdown",
      "metadata": {
        "id": "URSuOhOh8Ou-"
      },
      "source": [
        "<h2>Table of Contents</h2>\n",
        "<ol>\n",
        "    <li><a href=\"#ref1\">Initialization</a></li>\n",
        "    <li><a href=\"#ref2\">RBM layers</a></li>\n",
        "    <li><a href=\"#ref3\">What RBM can do after training?</a></li>\n",
        "    <li><a href=\"#ref4\">How to train the model?</a></li>\n",
        "    <li><a href=\"#ref5\">Learned features</a></li>\n",
        "</ol>\n",
        "<p></p>\n",
        "</div>\n",
        "<br>\n",
        "\n",
        "<hr>\n"
      ]
    },
    {
      "cell_type": "markdown",
      "metadata": {
        "id": "aDMox4Dq8Ou-"
      },
      "source": [
        "### **Installing TensorFlow**\n",
        "\n"
      ]
    },
    {
      "cell_type": "code",
      "metadata": {
        "colab": {
          "base_uri": "https://localhost:8080/"
        },
        "id": "TEVMgKjU8Ou_",
        "outputId": "42b97c29-1c2d-405c-f363-5b8ef77de40a"
      },
      "source": [
        "!pip install grpcio\n",
        "!pip install tensorflow\n",
        "!pip install pillow"
      ],
      "execution_count": null,
      "outputs": [
        {
          "output_type": "stream",
          "text": [
            "Requirement already satisfied: grpcio in /usr/local/lib/python3.6/dist-packages (1.32.0)\n",
            "Requirement already satisfied: six>=1.5.2 in /usr/local/lib/python3.6/dist-packages (from grpcio) (1.15.0)\n",
            "Requirement already satisfied: tensorflow in /usr/local/lib/python3.6/dist-packages (2.4.0)\n",
            "Requirement already satisfied: h5py~=2.10.0 in /usr/local/lib/python3.6/dist-packages (from tensorflow) (2.10.0)\n",
            "Requirement already satisfied: wrapt~=1.12.1 in /usr/local/lib/python3.6/dist-packages (from tensorflow) (1.12.1)\n",
            "Requirement already satisfied: wheel~=0.35 in /usr/local/lib/python3.6/dist-packages (from tensorflow) (0.36.2)\n",
            "Requirement already satisfied: tensorboard~=2.4 in /usr/local/lib/python3.6/dist-packages (from tensorflow) (2.4.0)\n",
            "Requirement already satisfied: typing-extensions~=3.7.4 in /usr/local/lib/python3.6/dist-packages (from tensorflow) (3.7.4.3)\n",
            "Requirement already satisfied: opt-einsum~=3.3.0 in /usr/local/lib/python3.6/dist-packages (from tensorflow) (3.3.0)\n",
            "Requirement already satisfied: google-pasta~=0.2 in /usr/local/lib/python3.6/dist-packages (from tensorflow) (0.2.0)\n",
            "Requirement already satisfied: keras-preprocessing~=1.1.2 in /usr/local/lib/python3.6/dist-packages (from tensorflow) (1.1.2)\n",
            "Requirement already satisfied: grpcio~=1.32.0 in /usr/local/lib/python3.6/dist-packages (from tensorflow) (1.32.0)\n",
            "Requirement already satisfied: termcolor~=1.1.0 in /usr/local/lib/python3.6/dist-packages (from tensorflow) (1.1.0)\n",
            "Requirement already satisfied: protobuf>=3.9.2 in /usr/local/lib/python3.6/dist-packages (from tensorflow) (3.12.4)\n",
            "Requirement already satisfied: astunparse~=1.6.3 in /usr/local/lib/python3.6/dist-packages (from tensorflow) (1.6.3)\n",
            "Requirement already satisfied: gast==0.3.3 in /usr/local/lib/python3.6/dist-packages (from tensorflow) (0.3.3)\n",
            "Requirement already satisfied: flatbuffers~=1.12.0 in /usr/local/lib/python3.6/dist-packages (from tensorflow) (1.12)\n",
            "Requirement already satisfied: six~=1.15.0 in /usr/local/lib/python3.6/dist-packages (from tensorflow) (1.15.0)\n",
            "Requirement already satisfied: absl-py~=0.10 in /usr/local/lib/python3.6/dist-packages (from tensorflow) (0.10.0)\n",
            "Requirement already satisfied: tensorflow-estimator<2.5.0,>=2.4.0rc0 in /usr/local/lib/python3.6/dist-packages (from tensorflow) (2.4.0)\n",
            "Requirement already satisfied: numpy~=1.19.2 in /usr/local/lib/python3.6/dist-packages (from tensorflow) (1.19.4)\n",
            "Requirement already satisfied: google-auth-oauthlib<0.5,>=0.4.1 in /usr/local/lib/python3.6/dist-packages (from tensorboard~=2.4->tensorflow) (0.4.2)\n",
            "Requirement already satisfied: requests<3,>=2.21.0 in /usr/local/lib/python3.6/dist-packages (from tensorboard~=2.4->tensorflow) (2.23.0)\n",
            "Requirement already satisfied: werkzeug>=0.11.15 in /usr/local/lib/python3.6/dist-packages (from tensorboard~=2.4->tensorflow) (1.0.1)\n",
            "Requirement already satisfied: markdown>=2.6.8 in /usr/local/lib/python3.6/dist-packages (from tensorboard~=2.4->tensorflow) (3.3.3)\n",
            "Requirement already satisfied: setuptools>=41.0.0 in /usr/local/lib/python3.6/dist-packages (from tensorboard~=2.4->tensorflow) (51.0.0)\n",
            "Requirement already satisfied: tensorboard-plugin-wit>=1.6.0 in /usr/local/lib/python3.6/dist-packages (from tensorboard~=2.4->tensorflow) (1.7.0)\n",
            "Requirement already satisfied: google-auth<2,>=1.6.3 in /usr/local/lib/python3.6/dist-packages (from tensorboard~=2.4->tensorflow) (1.17.2)\n",
            "Requirement already satisfied: requests-oauthlib>=0.7.0 in /usr/local/lib/python3.6/dist-packages (from google-auth-oauthlib<0.5,>=0.4.1->tensorboard~=2.4->tensorflow) (1.3.0)\n",
            "Requirement already satisfied: chardet<4,>=3.0.2 in /usr/local/lib/python3.6/dist-packages (from requests<3,>=2.21.0->tensorboard~=2.4->tensorflow) (3.0.4)\n",
            "Requirement already satisfied: urllib3!=1.25.0,!=1.25.1,<1.26,>=1.21.1 in /usr/local/lib/python3.6/dist-packages (from requests<3,>=2.21.0->tensorboard~=2.4->tensorflow) (1.24.3)\n",
            "Requirement already satisfied: idna<3,>=2.5 in /usr/local/lib/python3.6/dist-packages (from requests<3,>=2.21.0->tensorboard~=2.4->tensorflow) (2.10)\n",
            "Requirement already satisfied: certifi>=2017.4.17 in /usr/local/lib/python3.6/dist-packages (from requests<3,>=2.21.0->tensorboard~=2.4->tensorflow) (2020.12.5)\n",
            "Requirement already satisfied: importlib-metadata; python_version < \"3.8\" in /usr/local/lib/python3.6/dist-packages (from markdown>=2.6.8->tensorboard~=2.4->tensorflow) (3.3.0)\n",
            "Requirement already satisfied: rsa<5,>=3.1.4; python_version >= \"3\" in /usr/local/lib/python3.6/dist-packages (from google-auth<2,>=1.6.3->tensorboard~=2.4->tensorflow) (4.6)\n",
            "Requirement already satisfied: pyasn1-modules>=0.2.1 in /usr/local/lib/python3.6/dist-packages (from google-auth<2,>=1.6.3->tensorboard~=2.4->tensorflow) (0.2.8)\n",
            "Requirement already satisfied: cachetools<5.0,>=2.0.0 in /usr/local/lib/python3.6/dist-packages (from google-auth<2,>=1.6.3->tensorboard~=2.4->tensorflow) (4.2.0)\n",
            "Requirement already satisfied: oauthlib>=3.0.0 in /usr/local/lib/python3.6/dist-packages (from requests-oauthlib>=0.7.0->google-auth-oauthlib<0.5,>=0.4.1->tensorboard~=2.4->tensorflow) (3.1.0)\n",
            "Requirement already satisfied: zipp>=0.5 in /usr/local/lib/python3.6/dist-packages (from importlib-metadata; python_version < \"3.8\"->markdown>=2.6.8->tensorboard~=2.4->tensorflow) (3.4.0)\n",
            "Requirement already satisfied: pyasn1>=0.1.3 in /usr/local/lib/python3.6/dist-packages (from rsa<5,>=3.1.4; python_version >= \"3\"->google-auth<2,>=1.6.3->tensorboard~=2.4->tensorflow) (0.4.8)\n",
            "Requirement already satisfied: pillow in /usr/local/lib/python3.6/dist-packages (7.0.0)\n"
          ],
          "name": "stdout"
        }
      ]
    },
    {
      "cell_type": "markdown",
      "metadata": {
        "id": "O1Q1IzfL8Ou_"
      },
      "source": [
        "Now, we load in all the packages that we use to create the net including the TensorFlow package:\n"
      ]
    },
    {
      "cell_type": "code",
      "metadata": {
        "id": "-TJqWS8U8OvA"
      },
      "source": [
        "import tensorflow as tf\n",
        "import numpy as np\n",
        "\n",
        "from PIL import Image\n",
        "import matplotlib.pyplot as plt"
      ],
      "execution_count": null,
      "outputs": []
    },
    {
      "cell_type": "markdown",
      "metadata": {
        "id": "vwz6I0uj8OvA"
      },
      "source": [
        "<hr>\n"
      ]
    },
    {
      "cell_type": "markdown",
      "metadata": {
        "id": "Mfm7IJaF8OvA"
      },
      "source": [
        "<a id=\"ref2\"></a>\n",
        "\n",
        "<h3>RBM layers</h3>\n",
        "\n",
        "An RBM has two layers. The first layer of the RBM is called the <b>visible</b> (or input layer). Imagine we've only vectors with 7 values, so the visible layer must have $V=7$ input nodes. \n",
        "The second layer is the <b>hidden</b> layer, which has $H$ neurons in our case. Each hidden node takes on values of either 0 or 1 (i.e., $h_i = 1$ or $h_i$ = 0), with a probability that is a logistic function of the inputs it receives from the other $V$ visible units, called for example, $p(h_i = 1)$. For our  sample, we'll use 2 nodes in the hidden layer, so $H = 2$.\n",
        "\n",
        "<center><img src=\"https://ibm.box.com/shared/static/eu26opvcefgls6vnwuo29uwp0nudmokh.png\" alt=\"RBM Model\" style=\"width: 400px;\"></center>\n"
      ]
    },
    {
      "cell_type": "markdown",
      "metadata": {
        "id": "1fbO07ic8OvA"
      },
      "source": [
        "Each node in the first layer also has a <b>bias</b>. We will denote the bias as $v_{bias}$, and this single value is shared among the $V$ visible units.\n",
        "\n",
        "The <b>bias</b> of the second is defined similarly as $h_{bias}$, and this single value among the $H$ hidden units.\n"
      ]
    },
    {
      "cell_type": "code",
      "metadata": {
        "id": "9QMCMg8M8OvA"
      },
      "source": [
        "v_bias = tf.Variable(tf.zeros([7]), tf.float32)\n",
        "h_bias = tf.Variable(tf.zeros([2]), tf.float32)"
      ],
      "execution_count": null,
      "outputs": []
    },
    {
      "cell_type": "markdown",
      "metadata": {
        "id": "5hCyeYRl8OvA"
      },
      "source": [
        "We have to define weights among the input layer and hidden layer nodes. In the weight matrix, the number of rows are equal to the input nodes, and the number of columns are equal to the output nodes. We define a tensor $\\mathbf{W}$ of shape = (7,2), where the number of visible neurons = 7, and the number of hidden neurons = 2. \n"
      ]
    },
    {
      "cell_type": "code",
      "metadata": {
        "id": "d7o3SXSs8OvB"
      },
      "source": [
        "W = tf.constant(np.random.normal(loc=0.0, scale=1.0, size=(7, 2)).astype(np.float32))"
      ],
      "execution_count": null,
      "outputs": []
    },
    {
      "cell_type": "markdown",
      "metadata": {
        "id": "QTSn0fsB8OvB"
      },
      "source": [
        "<hr>\n"
      ]
    },
    {
      "cell_type": "markdown",
      "metadata": {
        "id": "TWKJzP298OvB"
      },
      "source": [
        "<a id=\"ref3\"></a>\n",
        "\n",
        "**What RBM can do after training?**\n",
        "\n",
        "Think of RBM as a model that has been trained based on images of a dataset of many SUV and sedan cars. Also, imagine that the RBM network has only two hidden nodes, where one node encodes the weight and, and the other encodes the size.  \n",
        "In a sense, the different configurations represent different cars, where one is an SUV and the other is Sedan.  In a training process, through many forward and backward passes, the RBM adjust its weights to send a stronger signal to either the SUV node (0, 1) or the sedan node (1, 0) in the hidden layer, given the pixels of images. Now, given an SUV in hidden layer, which distribution of pixels should we expect? RBM can give you 2 things. First, it encodes your images in hidden layer. Second, it gives you the probability of observing a case, given some hidden values.\n",
        "\n",
        "<h3>The Inference Process</h3>\n",
        "\n",
        "RBM has two phases:\n",
        "\n",
        "<ul>\n",
        "    <li>Forward Pass</li>  \n",
        "    <li>Backward Pass or Reconstruction</li>\n",
        "</ul>\n",
        "\n",
        "<b>Phase 1) Forward pass:</b>  \n",
        "\n",
        "Input one training sample (one image) $\\mathbf{x}$ through all visible nodes, and pass it to all hidden nodes. Processing happens in each node in the hidden layer. This computation begins by making stochastic decisions about whether to transmit that input or not (i.e. to determine the state of each hidden layer).  First, the probability vector is computed using the input feature vector $\\mathbf{x}$, the weight matrix $\\mathbf{W}$, and the bias term $h_{bias}$, as \n",
        "\n",
        "$p({h_j}|\\mathbf x)= \\sigma(\\sum_{i=1}^V W_{ij} x_i + h_{bias} )$, \n",
        "\n",
        "where $\\sigma(z) = (1+e^{-z})^{-1}$ is the logistic function.\n",
        "\n",
        "So, what does $p({h_j})$ represent? It is the <b>probability distribution</b> of the hidden units. That is, RBM uses inputs $x_i$ to make predictions about hidden node activations. For example, imagine that the hidden node activation values are [0.51 0.84] for the first training item. It tells you that the conditional probability for each hidden neuron for Phase 1 is: \n",
        "\n",
        "$$p(h_{1} = 1|\\mathbf{v}) = 0.51$$\n",
        "$$p(h_{2} = 1|\\mathbf{v}) = 0.84$$\n",
        "\n",
        "As a result, for each row in the training set, vector of probabilities is generated.  In TensorFlow, this is referred to as a `tensor` with a shape of (1,2). \n",
        "\n",
        "We then turn unit $j$ with probability $p(h_{j}|\\mathbf{v})$, and turn it off with probability $1 - p(h_{j}|\\mathbf{v})$ by generating a uniform random number vector $\\mathbf{\\xi}$, and comparing it to the activation probability as \n",
        "\n",
        "<center>If $\\xi_j>p(h_{j}|\\mathbf{v})$, then $h_j=1$, else $h_j=0$.</center>\n",
        "\n",
        "Therefore, the conditional probability of a configuration of $\\mathbf{h}$ given $\\mathbf{v}$ (for a training sample) is:\n",
        "\n",
        "$$p(\\mathbf{h} \\mid \\mathbf{v}) = \\prod_{j=1}^H p(h_j \\mid \\mathbf{v})$$\n",
        "\n",
        "where $H$ is the number of hidden units.\n"
      ]
    },
    {
      "cell_type": "markdown",
      "metadata": {
        "id": "wfxxlyhR8OvB"
      },
      "source": [
        "Before we go further, let's look at a toy example for one case out of all input. Assume that we have a trained RBM, and a very simple input vector, such as [1.0, 0.0, 0.0, 1.0, 0.0, 0.0, 0.0].  \n",
        "Let's see what the output of forward pass would look like:\n"
      ]
    },
    {
      "cell_type": "code",
      "metadata": {
        "colab": {
          "base_uri": "https://localhost:8080/"
        },
        "id": "kPR3JeTS8OvC",
        "outputId": "5891fad6-944a-4ed3-dabc-dbc5df984641"
      },
      "source": [
        "X = tf.constant([[1.0, 0.0, 0.0, 1.0, 0.0, 0.0, 0.0]], tf.float32)\n",
        "\n",
        "v_state = X\n",
        "print (\"Input: \", v_state)\n",
        "\n",
        "h_bias = tf.constant([0.1, 0.1])\n",
        "print (\"hb: \", h_bias)\n",
        "print (\"w: \", W)\n",
        "\n",
        "# Calculate the probabilities of turning the hidden units on:\n",
        "h_prob = tf.nn.sigmoid(tf.matmul(v_state, W) + h_bias)  #probabilities of the hidden units\n",
        "print (\"p(h|v): \", h_prob)\n",
        "\n",
        "# Draw samples from the distribution:\n",
        "h_state = tf.nn.relu(tf.sign(h_prob - tf.random.uniform(tf.shape(h_prob)))) #states\n",
        "print (\"h0 states:\", h_state)"
      ],
      "execution_count": null,
      "outputs": [
        {
          "output_type": "stream",
          "text": [
            "Input:  tf.Tensor([[1. 0. 0. 1. 0. 0. 0.]], shape=(1, 7), dtype=float32)\n",
            "hb:  tf.Tensor([0.1 0.1], shape=(2,), dtype=float32)\n",
            "w:  tf.Tensor(\n",
            "[[ 1.1509084  -0.6642517 ]\n",
            " [ 1.0219833  -0.16777591]\n",
            " [ 0.60805297 -1.8172042 ]\n",
            " [-0.5456829  -0.21189845]\n",
            " [ 0.01943833 -1.3955841 ]\n",
            " [-0.40676582 -0.48174858]\n",
            " [ 1.5027332   0.23451696]], shape=(7, 2), dtype=float32)\n",
            "p(h|v):  tf.Tensor([[0.6693453  0.31515023]], shape=(1, 2), dtype=float32)\n",
            "h0 states: tf.Tensor([[1. 0.]], shape=(1, 2), dtype=float32)\n"
          ],
          "name": "stdout"
        }
      ]
    },
    {
      "cell_type": "markdown",
      "metadata": {
        "id": "ZTHg7OIa8OvC"
      },
      "source": [
        "<b>Phase 2) Backward Pass (Reconstruction):</b>\n",
        "The RBM reconstructs data by making several forward and backward passes between the visible and hidden layers.\n",
        "\n",
        "So, in the second phase (i.e. reconstruction phase), the samples from the hidden layer (i.e. $\\mathbf h$) becomes the input in the backward pass. The same weight matrix and visible layer biases are used to passed to the sigmoid function. The reproduced output is a reconstruction which is an approximation of the original input.\n"
      ]
    },
    {
      "cell_type": "code",
      "metadata": {
        "colab": {
          "base_uri": "https://localhost:8080/"
        },
        "id": "feqxpyl98OvC",
        "outputId": "a0b21a01-dd03-4efa-c201-7011a071a482"
      },
      "source": [
        "vb = tf.constant([0.1, 0.2, 0.1, 0.1, 0.1, 0.2, 0.1])\n",
        "print (\"b: \", vb)\n",
        "v_prob = tf.nn.sigmoid(tf.matmul(h_state, tf.transpose(W)) + vb)\n",
        "print (\"p(vi∣h): \", v_prob)\n",
        "v_state = tf.nn.relu(tf.sign(v_prob - tf.random.uniform(tf.shape(v_prob))))\n",
        "print (\"v probability states: \", v_state)"
      ],
      "execution_count": null,
      "outputs": [
        {
          "output_type": "stream",
          "text": [
            "b:  tf.Tensor([0.1 0.2 0.1 0.1 0.1 0.2 0.1], shape=(7,), dtype=float32)\n",
            "p(vi∣h):  tf.Tensor(\n",
            "[[0.77745706 0.7724124  0.6699708  0.39038765 0.52982414 0.4484919\n",
            "  0.8324    ]], shape=(1, 7), dtype=float32)\n",
            "v probability states:  tf.Tensor([[1. 1. 1. 0. 0. 0. 0.]], shape=(1, 7), dtype=float32)\n"
          ],
          "name": "stdout"
        }
      ]
    },
    {
      "cell_type": "markdown",
      "metadata": {
        "id": "2OCpDs2V8OvD"
      },
      "source": [
        "RBM learns a probability distribution over the input, and then, after being trained, the RBM can generate new samples from the learned probability distribution. As you know, <b>probability distribution</b>, is a mathematical function that provides the probabilities of occurrence of different possible outcomes in an experiment.\n",
        "\n",
        "The (conditional) probability distribution over the visible units v is given by\n",
        "\n",
        "$p(\\mathbf{v} \\mid \\mathbf{h}) = \\prod_{i=1}^V p(v_i \\mid \\mathbf{h}),$\n",
        "\n",
        "where,\n",
        "\n",
        "$p(v_i \\mid \\mathbf{h}) = \\sigma\\left(\\sum_{j=1}^H W_{ji} h_j + v_{bias} \\right)$\n",
        "\n",
        "so, given current state of hidden units and weights, what is the probability of generating [1. 0. 0. 1. 0. 0. 0.] in reconstruction phase, based on the above <b>probability distribution</b> function?\n"
      ]
    },
    {
      "cell_type": "code",
      "metadata": {
        "colab": {
          "base_uri": "https://localhost:8080/"
        },
        "id": "WojMYmaZ8OvD",
        "outputId": "560d7f03-d2f3-4522-e190-925c6ceb184b"
      },
      "source": [
        "inp = X\n",
        "print(\"input X:\" , inp.numpy())\n",
        "\n",
        "print(\"probablity vector:\" , v_prob[0].numpy())\n",
        "v_probability = 1\n",
        "\n",
        "for elm, p in zip(inp[0],v_prob[0]) :\n",
        "    if elm ==1:\n",
        "        v_probability *= p\n",
        "    else:\n",
        "        v_probability *= (1-p)\n",
        "\n",
        "print(\"probability of generating X: \" , v_probability.numpy())"
      ],
      "execution_count": null,
      "outputs": [
        {
          "output_type": "stream",
          "text": [
            "input X: [[1. 0. 0. 1. 0. 0. 0.]]\n",
            "probablity vector: [0.77745706 0.7724124  0.6699708  0.39038765 0.52982414 0.4484919\n",
            " 0.8324    ]\n",
            "probability of generating X:  0.0009907397\n"
          ],
          "name": "stdout"
        }
      ]
    },
    {
      "cell_type": "markdown",
      "metadata": {
        "id": "6hPQ0KyF8OvD"
      },
      "source": [
        "How similar are vectors $\\mathbf{x}$ and $\\mathbf{v}$? Of course, the reconstructed values most likely will not look anything like the input vector, because our network has not been trained yet. Our objective is to train the model in such a way that the input vector and reconstructed vector to be same. Therefore, based on how different the input values look to the ones that we just reconstructed, the weights are adjusted. \n"
      ]
    },
    {
      "cell_type": "markdown",
      "metadata": {
        "id": "TIljFy7k8OvD"
      },
      "source": [
        "<hr>\n"
      ]
    },
    {
      "cell_type": "markdown",
      "metadata": {
        "id": "bepS5rVu8OvD"
      },
      "source": [
        "## **MNIST Dataset**\n"
      ]
    },
    {
      "cell_type": "markdown",
      "metadata": {
        "id": "MH1vqkil8OvE"
      },
      "source": [
        "We will be using the MNIST dataset to practice the usage of RBMs. The following cell loads the MNIST dataset.\n"
      ]
    },
    {
      "cell_type": "code",
      "metadata": {
        "id": "ZEOyQpvN8OvE"
      },
      "source": [
        "#loading training and test data\n",
        "mnist = tf.keras.datasets.mnist\n",
        "(trX, trY), (teX, teY) = mnist.load_data()\n",
        "\n",
        "# showing an example of the Flatten class and operation\n",
        "from tensorflow.keras.layers import Flatten\n",
        "flatten = Flatten(dtype='float32')\n",
        "trX = flatten(trX/255.0)\n",
        "trY = flatten(trY/255.0)"
      ],
      "execution_count": null,
      "outputs": []
    },
    {
      "cell_type": "markdown",
      "metadata": {
        "id": "97qoOAlU8OvE"
      },
      "source": [
        "Lets look at the dimension of the images.\n"
      ]
    },
    {
      "cell_type": "markdown",
      "metadata": {
        "id": "kn6o_9328OvE"
      },
      "source": [
        "MNIST images have 784 pixels, so the visible layer must have 784 input nodes.  For our case, we'll use 50 nodes in the hidden layer, so i = 50.\n"
      ]
    },
    {
      "cell_type": "code",
      "metadata": {
        "id": "SJe6cTOL8OvE"
      },
      "source": [
        "vb = tf.Variable(tf.zeros([784]), tf.float32)\n",
        "hb = tf.Variable(tf.zeros([50]), tf.float32)"
      ],
      "execution_count": null,
      "outputs": []
    },
    {
      "cell_type": "markdown",
      "metadata": {
        "id": "waygAf698OvE"
      },
      "source": [
        "Let $\\mathbf W$ be the Tensor of 784x50 (784 -> number of visible neurons, 50 -> number of hidden neurons) that represents weights between the neurons. \n"
      ]
    },
    {
      "cell_type": "code",
      "metadata": {
        "id": "UQM4KHzb8OvE"
      },
      "source": [
        "W = tf.Variable(tf.zeros([784,50]), tf.float32)"
      ],
      "execution_count": null,
      "outputs": []
    },
    {
      "cell_type": "markdown",
      "metadata": {
        "id": "eOtKiqml8OvE"
      },
      "source": [
        "Lets define the visible layer:\n"
      ]
    },
    {
      "cell_type": "code",
      "metadata": {
        "colab": {
          "base_uri": "https://localhost:8080/"
        },
        "id": "yJgb2JO18OvF",
        "outputId": "3a574549-9e09-4aba-bf4d-9626782d9cd1"
      },
      "source": [
        "v0_state = tf.Variable(tf.zeros([784]), tf.float32)\n",
        "\n",
        "#testing to see if the matrix product works\n",
        "tf.matmul( [v0_state], W)"
      ],
      "execution_count": null,
      "outputs": [
        {
          "output_type": "execute_result",
          "data": {
            "text/plain": [
              "<tf.Tensor: shape=(1, 50), dtype=float32, numpy=\n",
              "array([[0., 0., 0., 0., 0., 0., 0., 0., 0., 0., 0., 0., 0., 0., 0., 0.,\n",
              "        0., 0., 0., 0., 0., 0., 0., 0., 0., 0., 0., 0., 0., 0., 0., 0.,\n",
              "        0., 0., 0., 0., 0., 0., 0., 0., 0., 0., 0., 0., 0., 0., 0., 0.,\n",
              "        0., 0.]], dtype=float32)>"
            ]
          },
          "metadata": {
            "tags": []
          },
          "execution_count": 35
        }
      ]
    },
    {
      "cell_type": "markdown",
      "metadata": {
        "id": "b0mDRDca8OvF"
      },
      "source": [
        "Now, we can define hidden layer:\n"
      ]
    },
    {
      "cell_type": "code",
      "metadata": {
        "colab": {
          "base_uri": "https://localhost:8080/"
        },
        "id": "4qxvwnMP8OvF",
        "outputId": "b840d439-7c01-48c2-9b03-aafaea317a49"
      },
      "source": [
        "#computing the hidden nodes probability vector and checking shape\n",
        "h0_prob = tf.nn.sigmoid(tf.matmul([v0_state], W) + hb)  #probabilities of the hidden units\n",
        "print(\"h0_state shape: \" , tf.shape(h0_prob))\n",
        "\n",
        "#defining a function to return only the generated hidden states \n",
        "def hidden_layer(v0_state, W, hb):\n",
        "    h0_prob = tf.nn.sigmoid(tf.matmul([v0_state], W) + hb)  #probabilities of the hidden units\n",
        "    h0_state = tf.nn.relu(tf.sign(h0_prob - tf.random.uniform(tf.shape(h0_prob)))) #sample_h_given_X\n",
        "    return h0_state\n",
        "\n",
        "\n",
        "h0_state = hidden_layer(v0_state, W, hb)\n",
        "print(\"first 15 hidden states: \", h0_state[0])"
      ],
      "execution_count": null,
      "outputs": [
        {
          "output_type": "stream",
          "text": [
            "h0_state shape:  tf.Tensor([ 1 50], shape=(2,), dtype=int32)\n",
            "first 15 hidden states:  tf.Tensor(\n",
            "[1. 0. 1. 0. 1. 0. 0. 1. 0. 1. 1. 0. 0. 0. 0. 0. 0. 0. 1. 0. 1. 0. 1. 0.\n",
            " 0. 1. 1. 1. 0. 0. 1. 0. 1. 0. 1. 0. 1. 0. 1. 0. 1. 0. 0. 1. 1. 1. 0. 0.\n",
            " 1. 1.], shape=(50,), dtype=float32)\n"
          ],
          "name": "stdout"
        }
      ]
    },
    {
      "cell_type": "markdown",
      "metadata": {
        "id": "igq735n48OvF"
      },
      "source": [
        "Now, we define reconstruction part:\n"
      ]
    },
    {
      "cell_type": "code",
      "metadata": {
        "colab": {
          "base_uri": "https://localhost:8080/"
        },
        "id": "63hghh5U8OvF",
        "outputId": "242680f3-5aab-47f5-cb22-899778e88d89"
      },
      "source": [
        "def reconstructed_output(h0_state, W, vb):\n",
        "    v1_prob = tf.nn.sigmoid(tf.matmul(h0_state, tf.transpose(W)) + vb) \n",
        "    v1_state = tf.nn.relu(tf.sign(v1_prob - tf.random.uniform(tf.shape(v1_prob)))) #sample_v_given_h\n",
        "    return v1_state[0]\n",
        "\n",
        "v1_state = reconstructed_output(h0_state, W, vb)\n",
        "print(\"hidden state shape: \", h0_state.shape)\n",
        "print(\"v0 state shape:  \", v0_state.shape)\n",
        "print(\"v1 state shape:  \", v1_state.shape)"
      ],
      "execution_count": null,
      "outputs": [
        {
          "output_type": "stream",
          "text": [
            "hidden state shape:  (1, 50)\n",
            "v0 state shape:   (784,)\n",
            "v1 state shape:   (784,)\n"
          ],
          "name": "stdout"
        }
      ]
    },
    {
      "cell_type": "markdown",
      "metadata": {
        "id": "mKbNnRRW8OvF"
      },
      "source": [
        "<h3>What is the objective function?</h3>\n",
        "\n",
        "<b>Goal</b>: Maximize the likelihood of our data being drawn from that distribution\n",
        "\n",
        "<b>Calculate error:</b>  \n",
        "In each epoch, we compute the \"error\" as a sum of the squared difference between step 1 and step n,\n",
        "e.g the error shows the difference between the data and its reconstruction.\n",
        "\n",
        "<b>Note:</b> tf.reduce_mean computes the mean of elements across dimensions of a tensor.\n"
      ]
    },
    {
      "cell_type": "code",
      "metadata": {
        "colab": {
          "base_uri": "https://localhost:8080/"
        },
        "id": "lvt_oFef8OvG",
        "outputId": "cd01bc4a-e4d1-4037-aeb5-23f081f73e5b"
      },
      "source": [
        "def error(v0_state, v1_state):\n",
        "    return tf.reduce_mean(tf.square(v0_state - v1_state))\n",
        "\n",
        "err = tf.reduce_mean(tf.square(v0_state - v1_state))\n",
        "print(\"error\" , err.numpy())"
      ],
      "execution_count": null,
      "outputs": [
        {
          "output_type": "stream",
          "text": [
            "error 0.4859694\n"
          ],
          "name": "stdout"
        }
      ]
    },
    {
      "cell_type": "markdown",
      "metadata": {
        "id": "Zp-oyA4o8OvG"
      },
      "source": [
        "<a id=\"ref4\"></a>\n",
        "\n",
        "<h3>Training the Model</h3>\n",
        "\n",
        "#### **Warning... The following part is math-heavy, but you can skip it if you just want to run the cells in the next section.**\n",
        "\n",
        "As mentioned, we want to give a high probability to the input data we train on. So, in order to train an RBM, we have to maximize the product of probabilities assigned to all rows $\\mathbf{v}$ (images) in the training set $\\mathbf{V}$ (a matrix, where each row of it is treated as a visible vector $\\mathbf{v}$)\n",
        "\n",
        "$$\\arg\\max_W\\prod_{\\mathbf{v}\\in\\mathbf{V}_T}p(\\mathbf{v}),$$\n",
        "\n",
        "which is equivalent to maximizing the expectation of the log probability, given as\n",
        "\n",
        "$$\\arg\\max_W\\left[ \\mathbb{E} \\left(\\prod_{\\mathbf v\\in \\mathbf V}\\text{log} \\left(p(\\mathbf v)\\right) \\right) \\right].$$\n",
        "\n",
        "So, we have to update the weights $W_{ij}$  to increase $p(\\mathbf{v})$ for all $\\mathbf{v}$ in our training data during training. So we have to calculate the derivative:\n",
        "\n",
        "$$\\frac{\\partial \\log p(\\mathbf v)}{\\partial W_{ij}}$$\n",
        "\n",
        "This cannot be easily done by typical <b>gradient descent (SGD)</b>, so we can use another approach, which has 2 steps:\n",
        "\n",
        "<ol>\n",
        "    <li>Gibbs Sampling</li>\n",
        "    <li>Contrastive Divergence</li>\n",
        "</ol>    \n",
        "    \n",
        "<h3>Gibbs Sampling</h3>   \n",
        "\n",
        "<h4>Gibbs Sampling Step 1</h4> \n",
        "Given an input vector $\\mathbf{v}$, we are using $p(\\mathbf{h}|\\mathbf{v})$ to predict the hidden values $\\mathbf{h}$. \n",
        "  $$p({h_j}|\\mathbf v)= \\sigma\\left(\\sum_{i=1}^V W_{ij} v_i + h_{bias} \\right)$$\n",
        "The samples are generated from this distribution by generating the uniform random variate vector $\\mathbf{\\xi} \\sim U[0,1]$ of length $H$ and comparing to the computed probabilities as\n",
        "\n",
        "<center>If $\\xi_j>p(h_{j}|\\mathbf{v})$, then $h_j=1$, else $h_j=0$.</center>\n",
        "\n",
        "<h4>Gibbs Sampling Step 2</h4> \n",
        "Then, knowing the hidden values, we use $p(\\mathbf v| \\mathbf h)$ for reconstructing of new input values v. \n",
        "\n",
        "   $$p({v_i}|\\mathbf h)= \\sigma\\left(\\sum_{j=1}^H W^{T}_{ij} h_j + v_{bias} \\right)$$\n",
        "\n",
        "The samples are generated from this distribution by generating a uniform random variate vector $\\mathbf{\\xi} \\sim U[0,1]$ of length $V$ and comparing to the computed probabilities as\n",
        "\n",
        "<center>If $\\xi_i>p(v_{i}|\\mathbf{h})$, then $v_i=1$, else $v_i=0$.</center>\n",
        "\n",
        "Let vectors $\\mathbf v_k$ and $\\mathbf h_k$ be for the $k$th iteration.  In general, the $kth$ state is generrated as: \n",
        "\n",
        "<b>Iteration</b> $k$: \n",
        "\n",
        "$$\\mathbf v_{k-1} \\Rightarrow p(\\mathbf h_{k-1}|\\mathbf v_{k-1})\\Rightarrow \\mathbf h_{k-1}\\Rightarrow p(\\mathbf v_{k}|\\mathbf h_{k-1})\\Rightarrow \\mathbf v_k$$       \n",
        "\n",
        "<h3>Contrastive Divergence (CD-k)</h3>\n",
        "The update of the weight matrix is done during the Contrastive Divergence step. \n",
        "\n",
        "Vectors v0 and vk are used to calculate the activation probabilities for hidden values h0 and hk. The difference between the outer products of those probabilities with input vectors v0 and vk results in the update matrix:\n",
        "\n",
        "$\\Delta \\mathbf W_k =\\mathbf v_k \\otimes \\mathbf h_k - \\mathbf v_{k-1} \\otimes \\mathbf h_{k-1}$ \n",
        "\n",
        "Contrastive Divergence is actually matrix of values that is computed and used to adjust values of the $\\mathbf W$ matrix. Changing $\\mathbf W$ incrementally leads to training of the  $\\mathbf W$ values. Then, on each step (epoch), $\\mathbf W$ is updated using the following:\n",
        "\n",
        "$\\mathbf W_k = \\mathbf W_{k-1} + \\alpha * \\Delta \\mathbf W_k$ \n",
        "\n",
        "Reconstruction steps:\n",
        "\n",
        "<ul>\n",
        "    <li> Get one data point from data set, like <i>x</i>, and pass it through the following steps:</li>\n",
        "    \n",
        "<b>Iteration</b> $k=1$: \n",
        "    \n",
        "Sampling (starting with input image)\n",
        "    $$\\mathbf x = \\mathbf v_0 \\Rightarrow p(\\mathbf h_0|\\mathbf v_0)\\Rightarrow \\mathbf h_0 \\Rightarrow p(\\mathbf v_1|\\mathbf h_0)\\Rightarrow \\mathbf v_1$$   \n",
        "    followed by the CD-k step\n",
        "$$\\Delta \\mathbf W_1 =\\mathbf v_1 \\otimes \\mathbf h_1 - \\mathbf v_{0} \\otimes \\mathbf h_{0}$$     \n",
        "$$\\mathbf W_1 = \\mathbf W_{0} + \\alpha * \\Delta \\mathbf W_1$$ \n",
        " \n",
        "<li> $\\mathbf v_1$ is the reconstruction of $\\mathbf x$ sent to the next iteration).</li>\n",
        "\n",
        "<b>Iteration</b> $k=2$: \n",
        "\n",
        "Sampling (starting with $\\mathbf v_1$)\n",
        "\n",
        "$$\\mathbf v_1 \\Rightarrow p(\\mathbf h_1|\\mathbf v_1)\\Rightarrow \\mathbf h_1\\Rightarrow p(\\mathbf v_2|\\mathbf h_1)\\Rightarrow \\mathbf v_2$$   \n",
        "\n",
        "followed by the CD-k step\n",
        "$$\\Delta \\mathbf W_2 =\\mathbf v_2 \\otimes \\mathbf h_2 - \\mathbf v_{1} \\otimes \\mathbf h_{1}$$  \n",
        "$$\\mathbf W_2 = \\mathbf W_{1} + \\alpha * \\Delta \\mathbf W_2$$ \n",
        "\n",
        "<li> $\\mathbf v_2$ is the reconstruction of $\\mathbf v_1$ sent to the next iteration).</li>    \n",
        "      \n",
        "<b>Iteration</b> $k=K$:\n",
        "    \n",
        "Sampling (starting with $\\mathbf v_{K-1}$)\n",
        "\n",
        "$$\\mathbf v_{K-1} \\Rightarrow p(\\mathbf h_{K-1}|\\mathbf v_{K-1})\\Rightarrow \\mathbf h_{K-1}\\Rightarrow p(\\mathbf v_K|\\mathbf h_{K-1})\\Rightarrow \\mathbf v_K$$   \n",
        "\n",
        "followed by the CD-k step\n",
        "$$\\Delta \\mathbf W_K =\\mathbf v_K \\otimes \\mathbf h_K - \\mathbf v_{K-1} \\otimes \\mathbf h_{K-1}$$  \n",
        "$$\\mathbf W_K = \\mathbf W_{K-1} + \\alpha * \\Delta \\mathbf W_K$$ \n",
        "\n",
        "<b>What is $\\alpha$?</b>  \n",
        "Here, alpha is some small step size, and is also known as the \"learning rate\".\n"
      ]
    },
    {
      "cell_type": "markdown",
      "metadata": {
        "id": "ZbgnZ5lT8OvH"
      },
      "source": [
        "$K$ is adjustable, and good performance can be achieved with $K=1$, so that we just take one set of sampling steps per image.\n"
      ]
    },
    {
      "cell_type": "code",
      "metadata": {
        "id": "2i0Z0CZ38OvI"
      },
      "source": [
        "h1_prob = tf.nn.sigmoid(tf.matmul([v1_state], W) + hb)\n",
        "h1_state = tf.nn.relu(tf.sign(h1_prob - tf.random.uniform(tf.shape(h1_prob)))) #sample_h_given_X"
      ],
      "execution_count": null,
      "outputs": []
    },
    {
      "cell_type": "markdown",
      "metadata": {
        "id": "Hrf41GSE8OvI"
      },
      "source": [
        "Lets look at the error of the first run:\n"
      ]
    },
    {
      "cell_type": "code",
      "metadata": {
        "colab": {
          "base_uri": "https://localhost:8080/"
        },
        "id": "nzRPbBvk8OvJ",
        "outputId": "f0996e1d-dc8f-4d03-9eb6-9d28faee90a8"
      },
      "source": [
        "print(\"error: \", error(v0_state, v1_state))"
      ],
      "execution_count": null,
      "outputs": [
        {
          "output_type": "stream",
          "text": [
            "error:  tf.Tensor(0.4859694, shape=(), dtype=float32)\n"
          ],
          "name": "stdout"
        }
      ]
    },
    {
      "cell_type": "code",
      "metadata": {
        "colab": {
          "base_uri": "https://localhost:8080/"
        },
        "id": "FR5Ve1Nc8OvJ",
        "outputId": "15fbdcb5-bdef-4df1-f371-69d0c6d4e171"
      },
      "source": [
        "#Parameters\n",
        "alpha = 0.001\n",
        "epochs = 2\n",
        "batchsize = 200\n",
        "weights = []\n",
        "errors = []\n",
        "batch_number = 0\n",
        "K = 1\n",
        "\n",
        "#creating datasets\n",
        "train_ds = \\\n",
        "    tf.data.Dataset.from_tensor_slices((trX, trY)).batch(batchsize)\n",
        "\n",
        "for epoch in range(epochs):\n",
        "    for batch_x, batch_y in train_ds:\n",
        "        batch_number += 1\n",
        "        for i_sample in range(batchsize):           \n",
        "            for k in range(K):\n",
        "                v0_state = batch_x[i_sample]\n",
        "                h0_state = hidden_layer(v0_state, W, hb)\n",
        "                v1_state = reconstructed_output(h0_state, W, vb)\n",
        "                h1_state = hidden_layer(v1_state, W, hb)\n",
        "\n",
        "                delta_W = tf.matmul(tf.transpose([v0_state]), h0_state) - tf.matmul(tf.transpose([v1_state]), h1_state)\n",
        "                W = W + alpha * delta_W\n",
        "\n",
        "                vb = vb + alpha * tf.reduce_mean(v0_state - v1_state, 0)\n",
        "                hb = hb + alpha * tf.reduce_mean(h0_state - h1_state, 0) \n",
        "\n",
        "                v0_state = v1_state\n",
        "\n",
        "            if i_sample == batchsize-1:\n",
        "                err = error(batch_x[i_sample], v1_state)\n",
        "                errors.append(err)\n",
        "                weights.append(W)\n",
        "                print ( 'Epoch: %d' % epoch, \n",
        "                       \"batch #: %i \" % batch_number, \"of %i\" % int(60e3/batchsize), \n",
        "                       \"sample #: %i\" % i_sample,\n",
        "                       'reconstruction error: %f' % err)\n",
        "\n"
      ],
      "execution_count": null,
      "outputs": [
        {
          "output_type": "stream",
          "text": [
            "Epoch: 0 batch #: 1  of 300 sample #: 199 reconstruction error: 0.101013\n",
            "Epoch: 0 batch #: 2  of 300 sample #: 199 reconstruction error: 0.094085\n",
            "Epoch: 0 batch #: 3  of 300 sample #: 199 reconstruction error: 0.059020\n",
            "Epoch: 0 batch #: 4  of 300 sample #: 199 reconstruction error: 0.062031\n",
            "Epoch: 0 batch #: 5  of 300 sample #: 199 reconstruction error: 0.064394\n",
            "Epoch: 0 batch #: 6  of 300 sample #: 199 reconstruction error: 0.126600\n",
            "Epoch: 0 batch #: 7  of 300 sample #: 199 reconstruction error: 0.061928\n",
            "Epoch: 0 batch #: 8  of 300 sample #: 199 reconstruction error: 0.063656\n",
            "Epoch: 0 batch #: 9  of 300 sample #: 199 reconstruction error: 0.066054\n",
            "Epoch: 0 batch #: 10  of 300 sample #: 199 reconstruction error: 0.121384\n",
            "Epoch: 0 batch #: 11  of 300 sample #: 199 reconstruction error: 0.056562\n",
            "Epoch: 0 batch #: 12  of 300 sample #: 199 reconstruction error: 0.102282\n",
            "Epoch: 0 batch #: 13  of 300 sample #: 199 reconstruction error: 0.024498\n",
            "Epoch: 0 batch #: 14  of 300 sample #: 199 reconstruction error: 0.050827\n",
            "Epoch: 0 batch #: 15  of 300 sample #: 199 reconstruction error: 0.073265\n",
            "Epoch: 0 batch #: 16  of 300 sample #: 199 reconstruction error: 0.080151\n",
            "Epoch: 0 batch #: 17  of 300 sample #: 199 reconstruction error: 0.045396\n",
            "Epoch: 0 batch #: 18  of 300 sample #: 199 reconstruction error: 0.085556\n",
            "Epoch: 0 batch #: 19  of 300 sample #: 199 reconstruction error: 0.115906\n",
            "Epoch: 0 batch #: 20  of 300 sample #: 199 reconstruction error: 0.087325\n",
            "Epoch: 0 batch #: 21  of 300 sample #: 199 reconstruction error: 0.064648\n",
            "Epoch: 0 batch #: 22  of 300 sample #: 199 reconstruction error: 0.056560\n",
            "Epoch: 0 batch #: 23  of 300 sample #: 199 reconstruction error: 0.090392\n",
            "Epoch: 0 batch #: 24  of 300 sample #: 199 reconstruction error: 0.101465\n",
            "Epoch: 0 batch #: 25  of 300 sample #: 199 reconstruction error: 0.084784\n",
            "Epoch: 0 batch #: 26  of 300 sample #: 199 reconstruction error: 0.079249\n",
            "Epoch: 0 batch #: 27  of 300 sample #: 199 reconstruction error: 0.100220\n",
            "Epoch: 0 batch #: 28  of 300 sample #: 199 reconstruction error: 0.053858\n",
            "Epoch: 0 batch #: 29  of 300 sample #: 199 reconstruction error: 0.091642\n",
            "Epoch: 0 batch #: 30  of 300 sample #: 199 reconstruction error: 0.068880\n",
            "Epoch: 0 batch #: 31  of 300 sample #: 199 reconstruction error: 0.056054\n",
            "Epoch: 0 batch #: 32  of 300 sample #: 199 reconstruction error: 0.097595\n",
            "Epoch: 0 batch #: 33  of 300 sample #: 199 reconstruction error: 0.052535\n",
            "Epoch: 0 batch #: 34  of 300 sample #: 199 reconstruction error: 0.061980\n",
            "Epoch: 0 batch #: 35  of 300 sample #: 199 reconstruction error: 0.064591\n",
            "Epoch: 0 batch #: 36  of 300 sample #: 199 reconstruction error: 0.093557\n",
            "Epoch: 0 batch #: 37  of 300 sample #: 199 reconstruction error: 0.042820\n",
            "Epoch: 0 batch #: 38  of 300 sample #: 199 reconstruction error: 0.052526\n",
            "Epoch: 0 batch #: 39  of 300 sample #: 199 reconstruction error: 0.083623\n",
            "Epoch: 0 batch #: 40  of 300 sample #: 199 reconstruction error: 0.084008\n",
            "Epoch: 0 batch #: 41  of 300 sample #: 199 reconstruction error: 0.063232\n",
            "Epoch: 0 batch #: 42  of 300 sample #: 199 reconstruction error: 0.053315\n",
            "Epoch: 0 batch #: 43  of 300 sample #: 199 reconstruction error: 0.112498\n",
            "Epoch: 0 batch #: 44  of 300 sample #: 199 reconstruction error: 0.059510\n",
            "Epoch: 0 batch #: 45  of 300 sample #: 199 reconstruction error: 0.054665\n",
            "Epoch: 0 batch #: 46  of 300 sample #: 199 reconstruction error: 0.032887\n",
            "Epoch: 0 batch #: 47  of 300 sample #: 199 reconstruction error: 0.039440\n",
            "Epoch: 0 batch #: 48  of 300 sample #: 199 reconstruction error: 0.030923\n",
            "Epoch: 0 batch #: 49  of 300 sample #: 199 reconstruction error: 0.109487\n",
            "Epoch: 0 batch #: 50  of 300 sample #: 199 reconstruction error: 0.048067\n",
            "Epoch: 0 batch #: 51  of 300 sample #: 199 reconstruction error: 0.053857\n",
            "Epoch: 0 batch #: 52  of 300 sample #: 199 reconstruction error: 0.027352\n",
            "Epoch: 0 batch #: 53  of 300 sample #: 199 reconstruction error: 0.065486\n",
            "Epoch: 0 batch #: 54  of 300 sample #: 199 reconstruction error: 0.033867\n",
            "Epoch: 0 batch #: 55  of 300 sample #: 199 reconstruction error: 0.086015\n",
            "Epoch: 0 batch #: 56  of 300 sample #: 199 reconstruction error: 0.045501\n",
            "Epoch: 0 batch #: 57  of 300 sample #: 199 reconstruction error: 0.045443\n",
            "Epoch: 0 batch #: 58  of 300 sample #: 199 reconstruction error: 0.066184\n",
            "Epoch: 0 batch #: 59  of 300 sample #: 199 reconstruction error: 0.061098\n",
            "Epoch: 0 batch #: 60  of 300 sample #: 199 reconstruction error: 0.096025\n",
            "Epoch: 0 batch #: 61  of 300 sample #: 199 reconstruction error: 0.068512\n",
            "Epoch: 0 batch #: 62  of 300 sample #: 199 reconstruction error: 0.066808\n",
            "Epoch: 0 batch #: 63  of 300 sample #: 199 reconstruction error: 0.038204\n",
            "Epoch: 0 batch #: 64  of 300 sample #: 199 reconstruction error: 0.072677\n",
            "Epoch: 0 batch #: 65  of 300 sample #: 199 reconstruction error: 0.098255\n",
            "Epoch: 0 batch #: 66  of 300 sample #: 199 reconstruction error: 0.051687\n",
            "Epoch: 0 batch #: 67  of 300 sample #: 199 reconstruction error: 0.044903\n",
            "Epoch: 0 batch #: 68  of 300 sample #: 199 reconstruction error: 0.062243\n",
            "Epoch: 0 batch #: 69  of 300 sample #: 199 reconstruction error: 0.064140\n",
            "Epoch: 0 batch #: 70  of 300 sample #: 199 reconstruction error: 0.087260\n",
            "Epoch: 0 batch #: 71  of 300 sample #: 199 reconstruction error: 0.072649\n",
            "Epoch: 0 batch #: 72  of 300 sample #: 199 reconstruction error: 0.061605\n",
            "Epoch: 0 batch #: 73  of 300 sample #: 199 reconstruction error: 0.077900\n",
            "Epoch: 0 batch #: 74  of 300 sample #: 199 reconstruction error: 0.065092\n",
            "Epoch: 0 batch #: 75  of 300 sample #: 199 reconstruction error: 0.052875\n",
            "Epoch: 0 batch #: 76  of 300 sample #: 199 reconstruction error: 0.062395\n",
            "Epoch: 0 batch #: 77  of 300 sample #: 199 reconstruction error: 0.098743\n",
            "Epoch: 0 batch #: 78  of 300 sample #: 199 reconstruction error: 0.086112\n",
            "Epoch: 0 batch #: 79  of 300 sample #: 199 reconstruction error: 0.095011\n",
            "Epoch: 0 batch #: 80  of 300 sample #: 199 reconstruction error: 0.031561\n",
            "Epoch: 0 batch #: 81  of 300 sample #: 199 reconstruction error: 0.048008\n",
            "Epoch: 0 batch #: 82  of 300 sample #: 199 reconstruction error: 0.042196\n",
            "Epoch: 0 batch #: 83  of 300 sample #: 199 reconstruction error: 0.080737\n",
            "Epoch: 0 batch #: 84  of 300 sample #: 199 reconstruction error: 0.083345\n",
            "Epoch: 0 batch #: 85  of 300 sample #: 199 reconstruction error: 0.054747\n",
            "Epoch: 0 batch #: 86  of 300 sample #: 199 reconstruction error: 0.071323\n",
            "Epoch: 0 batch #: 87  of 300 sample #: 199 reconstruction error: 0.073810\n",
            "Epoch: 0 batch #: 88  of 300 sample #: 199 reconstruction error: 0.027246\n",
            "Epoch: 0 batch #: 89  of 300 sample #: 199 reconstruction error: 0.050520\n",
            "Epoch: 0 batch #: 90  of 300 sample #: 199 reconstruction error: 0.065671\n",
            "Epoch: 0 batch #: 91  of 300 sample #: 199 reconstruction error: 0.051112\n",
            "Epoch: 0 batch #: 92  of 300 sample #: 199 reconstruction error: 0.059101\n",
            "Epoch: 0 batch #: 93  of 300 sample #: 199 reconstruction error: 0.102327\n",
            "Epoch: 0 batch #: 94  of 300 sample #: 199 reconstruction error: 0.101580\n",
            "Epoch: 0 batch #: 95  of 300 sample #: 199 reconstruction error: 0.047963\n",
            "Epoch: 0 batch #: 96  of 300 sample #: 199 reconstruction error: 0.049619\n",
            "Epoch: 0 batch #: 97  of 300 sample #: 199 reconstruction error: 0.098342\n",
            "Epoch: 0 batch #: 98  of 300 sample #: 199 reconstruction error: 0.073783\n",
            "Epoch: 0 batch #: 99  of 300 sample #: 199 reconstruction error: 0.045631\n",
            "Epoch: 0 batch #: 100  of 300 sample #: 199 reconstruction error: 0.093922\n",
            "Epoch: 0 batch #: 101  of 300 sample #: 199 reconstruction error: 0.075528\n",
            "Epoch: 0 batch #: 102  of 300 sample #: 199 reconstruction error: 0.103936\n",
            "Epoch: 0 batch #: 103  of 300 sample #: 199 reconstruction error: 0.063979\n",
            "Epoch: 0 batch #: 104  of 300 sample #: 199 reconstruction error: 0.056127\n",
            "Epoch: 0 batch #: 105  of 300 sample #: 199 reconstruction error: 0.051227\n",
            "Epoch: 0 batch #: 106  of 300 sample #: 199 reconstruction error: 0.099259\n",
            "Epoch: 0 batch #: 107  of 300 sample #: 199 reconstruction error: 0.125218\n",
            "Epoch: 0 batch #: 108  of 300 sample #: 199 reconstruction error: 0.054946\n",
            "Epoch: 0 batch #: 109  of 300 sample #: 199 reconstruction error: 0.113376\n",
            "Epoch: 0 batch #: 110  of 300 sample #: 199 reconstruction error: 0.059097\n",
            "Epoch: 0 batch #: 111  of 300 sample #: 199 reconstruction error: 0.098091\n",
            "Epoch: 0 batch #: 112  of 300 sample #: 199 reconstruction error: 0.035098\n",
            "Epoch: 0 batch #: 113  of 300 sample #: 199 reconstruction error: 0.063665\n",
            "Epoch: 0 batch #: 114  of 300 sample #: 199 reconstruction error: 0.078526\n",
            "Epoch: 0 batch #: 115  of 300 sample #: 199 reconstruction error: 0.053723\n",
            "Epoch: 0 batch #: 116  of 300 sample #: 199 reconstruction error: 0.045543\n",
            "Epoch: 0 batch #: 117  of 300 sample #: 199 reconstruction error: 0.048075\n",
            "Epoch: 0 batch #: 118  of 300 sample #: 199 reconstruction error: 0.070894\n",
            "Epoch: 0 batch #: 119  of 300 sample #: 199 reconstruction error: 0.113879\n",
            "Epoch: 0 batch #: 120  of 300 sample #: 199 reconstruction error: 0.059699\n",
            "Epoch: 0 batch #: 121  of 300 sample #: 199 reconstruction error: 0.035930\n",
            "Epoch: 0 batch #: 122  of 300 sample #: 199 reconstruction error: 0.086552\n",
            "Epoch: 0 batch #: 123  of 300 sample #: 199 reconstruction error: 0.061202\n",
            "Epoch: 0 batch #: 124  of 300 sample #: 199 reconstruction error: 0.084798\n",
            "Epoch: 0 batch #: 125  of 300 sample #: 199 reconstruction error: 0.052984\n",
            "Epoch: 0 batch #: 126  of 300 sample #: 199 reconstruction error: 0.099013\n",
            "Epoch: 0 batch #: 127  of 300 sample #: 199 reconstruction error: 0.092636\n",
            "Epoch: 0 batch #: 128  of 300 sample #: 199 reconstruction error: 0.073229\n",
            "Epoch: 0 batch #: 129  of 300 sample #: 199 reconstruction error: 0.058848\n",
            "Epoch: 0 batch #: 130  of 300 sample #: 199 reconstruction error: 0.075039\n",
            "Epoch: 0 batch #: 131  of 300 sample #: 199 reconstruction error: 0.055524\n",
            "Epoch: 0 batch #: 132  of 300 sample #: 199 reconstruction error: 0.036192\n",
            "Epoch: 0 batch #: 133  of 300 sample #: 199 reconstruction error: 0.059466\n",
            "Epoch: 0 batch #: 134  of 300 sample #: 199 reconstruction error: 0.100824\n",
            "Epoch: 0 batch #: 135  of 300 sample #: 199 reconstruction error: 0.072435\n",
            "Epoch: 0 batch #: 136  of 300 sample #: 199 reconstruction error: 0.090340\n",
            "Epoch: 0 batch #: 137  of 300 sample #: 199 reconstruction error: 0.069901\n",
            "Epoch: 0 batch #: 138  of 300 sample #: 199 reconstruction error: 0.086283\n",
            "Epoch: 0 batch #: 139  of 300 sample #: 199 reconstruction error: 0.104673\n",
            "Epoch: 0 batch #: 140  of 300 sample #: 199 reconstruction error: 0.080753\n",
            "Epoch: 0 batch #: 141  of 300 sample #: 199 reconstruction error: 0.076438\n",
            "Epoch: 0 batch #: 142  of 300 sample #: 199 reconstruction error: 0.054538\n",
            "Epoch: 0 batch #: 143  of 300 sample #: 199 reconstruction error: 0.052545\n",
            "Epoch: 0 batch #: 144  of 300 sample #: 199 reconstruction error: 0.071379\n",
            "Epoch: 0 batch #: 145  of 300 sample #: 199 reconstruction error: 0.101245\n",
            "Epoch: 0 batch #: 146  of 300 sample #: 199 reconstruction error: 0.106791\n",
            "Epoch: 0 batch #: 147  of 300 sample #: 199 reconstruction error: 0.084106\n",
            "Epoch: 0 batch #: 148  of 300 sample #: 199 reconstruction error: 0.070943\n",
            "Epoch: 0 batch #: 149  of 300 sample #: 199 reconstruction error: 0.061049\n",
            "Epoch: 0 batch #: 150  of 300 sample #: 199 reconstruction error: 0.026298\n",
            "Epoch: 0 batch #: 151  of 300 sample #: 199 reconstruction error: 0.116320\n",
            "Epoch: 0 batch #: 152  of 300 sample #: 199 reconstruction error: 0.075181\n",
            "Epoch: 0 batch #: 153  of 300 sample #: 199 reconstruction error: 0.058842\n",
            "Epoch: 0 batch #: 154  of 300 sample #: 199 reconstruction error: 0.063788\n",
            "Epoch: 0 batch #: 155  of 300 sample #: 199 reconstruction error: 0.067710\n",
            "Epoch: 0 batch #: 156  of 300 sample #: 199 reconstruction error: 0.079914\n",
            "Epoch: 0 batch #: 157  of 300 sample #: 199 reconstruction error: 0.079428\n",
            "Epoch: 0 batch #: 158  of 300 sample #: 199 reconstruction error: 0.064412\n",
            "Epoch: 0 batch #: 159  of 300 sample #: 199 reconstruction error: 0.060862\n",
            "Epoch: 0 batch #: 160  of 300 sample #: 199 reconstruction error: 0.080987\n",
            "Epoch: 0 batch #: 161  of 300 sample #: 199 reconstruction error: 0.081810\n",
            "Epoch: 0 batch #: 162  of 300 sample #: 199 reconstruction error: 0.119491\n",
            "Epoch: 0 batch #: 163  of 300 sample #: 199 reconstruction error: 0.042358\n",
            "Epoch: 0 batch #: 164  of 300 sample #: 199 reconstruction error: 0.054586\n",
            "Epoch: 0 batch #: 165  of 300 sample #: 199 reconstruction error: 0.085642\n",
            "Epoch: 0 batch #: 166  of 300 sample #: 199 reconstruction error: 0.054513\n",
            "Epoch: 0 batch #: 167  of 300 sample #: 199 reconstruction error: 0.090201\n",
            "Epoch: 0 batch #: 168  of 300 sample #: 199 reconstruction error: 0.053328\n",
            "Epoch: 0 batch #: 169  of 300 sample #: 199 reconstruction error: 0.028763\n",
            "Epoch: 0 batch #: 170  of 300 sample #: 199 reconstruction error: 0.053556\n",
            "Epoch: 0 batch #: 171  of 300 sample #: 199 reconstruction error: 0.032191\n",
            "Epoch: 0 batch #: 172  of 300 sample #: 199 reconstruction error: 0.039542\n",
            "Epoch: 0 batch #: 173  of 300 sample #: 199 reconstruction error: 0.086119\n",
            "Epoch: 0 batch #: 174  of 300 sample #: 199 reconstruction error: 0.095988\n",
            "Epoch: 0 batch #: 175  of 300 sample #: 199 reconstruction error: 0.061669\n",
            "Epoch: 0 batch #: 176  of 300 sample #: 199 reconstruction error: 0.039994\n",
            "Epoch: 0 batch #: 177  of 300 sample #: 199 reconstruction error: 0.040939\n",
            "Epoch: 0 batch #: 178  of 300 sample #: 199 reconstruction error: 0.113753\n",
            "Epoch: 0 batch #: 179  of 300 sample #: 199 reconstruction error: 0.067366\n",
            "Epoch: 0 batch #: 180  of 300 sample #: 199 reconstruction error: 0.087003\n",
            "Epoch: 0 batch #: 181  of 300 sample #: 199 reconstruction error: 0.095277\n",
            "Epoch: 0 batch #: 182  of 300 sample #: 199 reconstruction error: 0.078537\n",
            "Epoch: 0 batch #: 183  of 300 sample #: 199 reconstruction error: 0.106918\n",
            "Epoch: 0 batch #: 184  of 300 sample #: 199 reconstruction error: 0.064603\n",
            "Epoch: 0 batch #: 185  of 300 sample #: 199 reconstruction error: 0.094417\n",
            "Epoch: 0 batch #: 186  of 300 sample #: 199 reconstruction error: 0.109972\n",
            "Epoch: 0 batch #: 187  of 300 sample #: 199 reconstruction error: 0.052061\n",
            "Epoch: 0 batch #: 188  of 300 sample #: 199 reconstruction error: 0.092738\n",
            "Epoch: 0 batch #: 189  of 300 sample #: 199 reconstruction error: 0.075741\n",
            "Epoch: 0 batch #: 190  of 300 sample #: 199 reconstruction error: 0.050718\n",
            "Epoch: 0 batch #: 191  of 300 sample #: 199 reconstruction error: 0.126846\n",
            "Epoch: 0 batch #: 192  of 300 sample #: 199 reconstruction error: 0.124011\n",
            "Epoch: 0 batch #: 193  of 300 sample #: 199 reconstruction error: 0.102073\n",
            "Epoch: 0 batch #: 194  of 300 sample #: 199 reconstruction error: 0.075357\n",
            "Epoch: 0 batch #: 195  of 300 sample #: 199 reconstruction error: 0.051771\n",
            "Epoch: 0 batch #: 196  of 300 sample #: 199 reconstruction error: 0.049749\n",
            "Epoch: 0 batch #: 197  of 300 sample #: 199 reconstruction error: 0.054885\n",
            "Epoch: 0 batch #: 198  of 300 sample #: 199 reconstruction error: 0.087423\n",
            "Epoch: 0 batch #: 199  of 300 sample #: 199 reconstruction error: 0.079169\n",
            "Epoch: 0 batch #: 200  of 300 sample #: 199 reconstruction error: 0.086750\n",
            "Epoch: 0 batch #: 201  of 300 sample #: 199 reconstruction error: 0.069664\n",
            "Epoch: 0 batch #: 202  of 300 sample #: 199 reconstruction error: 0.024832\n",
            "Epoch: 0 batch #: 203  of 300 sample #: 199 reconstruction error: 0.082738\n",
            "Epoch: 0 batch #: 204  of 300 sample #: 199 reconstruction error: 0.051490\n",
            "Epoch: 0 batch #: 205  of 300 sample #: 199 reconstruction error: 0.029149\n",
            "Epoch: 0 batch #: 206  of 300 sample #: 199 reconstruction error: 0.048451\n",
            "Epoch: 0 batch #: 207  of 300 sample #: 199 reconstruction error: 0.080457\n",
            "Epoch: 0 batch #: 208  of 300 sample #: 199 reconstruction error: 0.048098\n",
            "Epoch: 0 batch #: 209  of 300 sample #: 199 reconstruction error: 0.028400\n",
            "Epoch: 0 batch #: 210  of 300 sample #: 199 reconstruction error: 0.111062\n",
            "Epoch: 0 batch #: 211  of 300 sample #: 199 reconstruction error: 0.082195\n",
            "Epoch: 0 batch #: 212  of 300 sample #: 199 reconstruction error: 0.091240\n",
            "Epoch: 0 batch #: 213  of 300 sample #: 199 reconstruction error: 0.100518\n",
            "Epoch: 0 batch #: 214  of 300 sample #: 199 reconstruction error: 0.093990\n",
            "Epoch: 0 batch #: 215  of 300 sample #: 199 reconstruction error: 0.027036\n",
            "Epoch: 0 batch #: 216  of 300 sample #: 199 reconstruction error: 0.098841\n",
            "Epoch: 0 batch #: 217  of 300 sample #: 199 reconstruction error: 0.086143\n",
            "Epoch: 0 batch #: 218  of 300 sample #: 199 reconstruction error: 0.060058\n",
            "Epoch: 0 batch #: 219  of 300 sample #: 199 reconstruction error: 0.065579\n",
            "Epoch: 0 batch #: 220  of 300 sample #: 199 reconstruction error: 0.070410\n",
            "Epoch: 0 batch #: 221  of 300 sample #: 199 reconstruction error: 0.106040\n",
            "Epoch: 0 batch #: 222  of 300 sample #: 199 reconstruction error: 0.061926\n",
            "Epoch: 0 batch #: 223  of 300 sample #: 199 reconstruction error: 0.068556\n",
            "Epoch: 0 batch #: 224  of 300 sample #: 199 reconstruction error: 0.069293\n",
            "Epoch: 0 batch #: 225  of 300 sample #: 199 reconstruction error: 0.070748\n",
            "Epoch: 0 batch #: 226  of 300 sample #: 199 reconstruction error: 0.137866\n",
            "Epoch: 0 batch #: 227  of 300 sample #: 199 reconstruction error: 0.075585\n",
            "Epoch: 0 batch #: 228  of 300 sample #: 199 reconstruction error: 0.065680\n",
            "Epoch: 0 batch #: 229  of 300 sample #: 199 reconstruction error: 0.083878\n",
            "Epoch: 0 batch #: 230  of 300 sample #: 199 reconstruction error: 0.035594\n",
            "Epoch: 0 batch #: 231  of 300 sample #: 199 reconstruction error: 0.023899\n",
            "Epoch: 0 batch #: 232  of 300 sample #: 199 reconstruction error: 0.073255\n",
            "Epoch: 0 batch #: 233  of 300 sample #: 199 reconstruction error: 0.079484\n",
            "Epoch: 0 batch #: 234  of 300 sample #: 199 reconstruction error: 0.070959\n",
            "Epoch: 0 batch #: 235  of 300 sample #: 199 reconstruction error: 0.070255\n",
            "Epoch: 0 batch #: 236  of 300 sample #: 199 reconstruction error: 0.093079\n",
            "Epoch: 0 batch #: 237  of 300 sample #: 199 reconstruction error: 0.081321\n",
            "Epoch: 0 batch #: 238  of 300 sample #: 199 reconstruction error: 0.120903\n",
            "Epoch: 0 batch #: 239  of 300 sample #: 199 reconstruction error: 0.032692\n",
            "Epoch: 0 batch #: 240  of 300 sample #: 199 reconstruction error: 0.100482\n",
            "Epoch: 0 batch #: 241  of 300 sample #: 199 reconstruction error: 0.094800\n",
            "Epoch: 0 batch #: 242  of 300 sample #: 199 reconstruction error: 0.055544\n",
            "Epoch: 0 batch #: 243  of 300 sample #: 199 reconstruction error: 0.073396\n",
            "Epoch: 0 batch #: 244  of 300 sample #: 199 reconstruction error: 0.073225\n",
            "Epoch: 0 batch #: 245  of 300 sample #: 199 reconstruction error: 0.048723\n",
            "Epoch: 0 batch #: 246  of 300 sample #: 199 reconstruction error: 0.087279\n",
            "Epoch: 0 batch #: 247  of 300 sample #: 199 reconstruction error: 0.044154\n",
            "Epoch: 0 batch #: 248  of 300 sample #: 199 reconstruction error: 0.062310\n",
            "Epoch: 0 batch #: 249  of 300 sample #: 199 reconstruction error: 0.051148\n",
            "Epoch: 0 batch #: 250  of 300 sample #: 199 reconstruction error: 0.077847\n",
            "Epoch: 0 batch #: 251  of 300 sample #: 199 reconstruction error: 0.051342\n",
            "Epoch: 0 batch #: 252  of 300 sample #: 199 reconstruction error: 0.074414\n",
            "Epoch: 0 batch #: 253  of 300 sample #: 199 reconstruction error: 0.044095\n",
            "Epoch: 0 batch #: 254  of 300 sample #: 199 reconstruction error: 0.030848\n",
            "Epoch: 0 batch #: 255  of 300 sample #: 199 reconstruction error: 0.048485\n",
            "Epoch: 0 batch #: 256  of 300 sample #: 199 reconstruction error: 0.072388\n",
            "Epoch: 0 batch #: 257  of 300 sample #: 199 reconstruction error: 0.079389\n",
            "Epoch: 0 batch #: 258  of 300 sample #: 199 reconstruction error: 0.098473\n",
            "Epoch: 0 batch #: 259  of 300 sample #: 199 reconstruction error: 0.068355\n",
            "Epoch: 0 batch #: 260  of 300 sample #: 199 reconstruction error: 0.084373\n",
            "Epoch: 0 batch #: 261  of 300 sample #: 199 reconstruction error: 0.045636\n",
            "Epoch: 0 batch #: 262  of 300 sample #: 199 reconstruction error: 0.055504\n",
            "Epoch: 0 batch #: 263  of 300 sample #: 199 reconstruction error: 0.081613\n",
            "Epoch: 0 batch #: 264  of 300 sample #: 199 reconstruction error: 0.077381\n",
            "Epoch: 0 batch #: 265  of 300 sample #: 199 reconstruction error: 0.089641\n",
            "Epoch: 0 batch #: 266  of 300 sample #: 199 reconstruction error: 0.032452\n",
            "Epoch: 0 batch #: 267  of 300 sample #: 199 reconstruction error: 0.069167\n",
            "Epoch: 0 batch #: 268  of 300 sample #: 199 reconstruction error: 0.025580\n",
            "Epoch: 0 batch #: 269  of 300 sample #: 199 reconstruction error: 0.094575\n",
            "Epoch: 0 batch #: 270  of 300 sample #: 199 reconstruction error: 0.071422\n",
            "Epoch: 0 batch #: 271  of 300 sample #: 199 reconstruction error: 0.066837\n",
            "Epoch: 0 batch #: 272  of 300 sample #: 199 reconstruction error: 0.053863\n",
            "Epoch: 0 batch #: 273  of 300 sample #: 199 reconstruction error: 0.049670\n",
            "Epoch: 0 batch #: 274  of 300 sample #: 199 reconstruction error: 0.061609\n",
            "Epoch: 0 batch #: 275  of 300 sample #: 199 reconstruction error: 0.094914\n",
            "Epoch: 0 batch #: 276  of 300 sample #: 199 reconstruction error: 0.078668\n",
            "Epoch: 0 batch #: 277  of 300 sample #: 199 reconstruction error: 0.077206\n",
            "Epoch: 0 batch #: 278  of 300 sample #: 199 reconstruction error: 0.053177\n",
            "Epoch: 0 batch #: 279  of 300 sample #: 199 reconstruction error: 0.046309\n",
            "Epoch: 0 batch #: 280  of 300 sample #: 199 reconstruction error: 0.066850\n",
            "Epoch: 0 batch #: 281  of 300 sample #: 199 reconstruction error: 0.068917\n",
            "Epoch: 0 batch #: 282  of 300 sample #: 199 reconstruction error: 0.095677\n",
            "Epoch: 0 batch #: 283  of 300 sample #: 199 reconstruction error: 0.041800\n",
            "Epoch: 0 batch #: 284  of 300 sample #: 199 reconstruction error: 0.056840\n",
            "Epoch: 0 batch #: 285  of 300 sample #: 199 reconstruction error: 0.062194\n",
            "Epoch: 0 batch #: 286  of 300 sample #: 199 reconstruction error: 0.078947\n",
            "Epoch: 0 batch #: 287  of 300 sample #: 199 reconstruction error: 0.081864\n",
            "Epoch: 0 batch #: 288  of 300 sample #: 199 reconstruction error: 0.025206\n",
            "Epoch: 0 batch #: 289  of 300 sample #: 199 reconstruction error: 0.079194\n",
            "Epoch: 0 batch #: 290  of 300 sample #: 199 reconstruction error: 0.094127\n",
            "Epoch: 0 batch #: 291  of 300 sample #: 199 reconstruction error: 0.109464\n",
            "Epoch: 0 batch #: 292  of 300 sample #: 199 reconstruction error: 0.075324\n",
            "Epoch: 0 batch #: 293  of 300 sample #: 199 reconstruction error: 0.068715\n",
            "Epoch: 0 batch #: 294  of 300 sample #: 199 reconstruction error: 0.093155\n",
            "Epoch: 0 batch #: 295  of 300 sample #: 199 reconstruction error: 0.085611\n",
            "Epoch: 0 batch #: 296  of 300 sample #: 199 reconstruction error: 0.018810\n",
            "Epoch: 0 batch #: 297  of 300 sample #: 199 reconstruction error: 0.144533\n",
            "Epoch: 0 batch #: 298  of 300 sample #: 199 reconstruction error: 0.055704\n",
            "Epoch: 0 batch #: 299  of 300 sample #: 199 reconstruction error: 0.038506\n",
            "Epoch: 0 batch #: 300  of 300 sample #: 199 reconstruction error: 0.091683\n",
            "Epoch: 1 batch #: 301  of 300 sample #: 199 reconstruction error: 0.085277\n",
            "Epoch: 1 batch #: 302  of 300 sample #: 199 reconstruction error: 0.090314\n",
            "Epoch: 1 batch #: 303  of 300 sample #: 199 reconstruction error: 0.050071\n",
            "Epoch: 1 batch #: 304  of 300 sample #: 199 reconstruction error: 0.071370\n",
            "Epoch: 1 batch #: 305  of 300 sample #: 199 reconstruction error: 0.062368\n",
            "Epoch: 1 batch #: 306  of 300 sample #: 199 reconstruction error: 0.113450\n",
            "Epoch: 1 batch #: 307  of 300 sample #: 199 reconstruction error: 0.062889\n",
            "Epoch: 1 batch #: 308  of 300 sample #: 199 reconstruction error: 0.080478\n",
            "Epoch: 1 batch #: 309  of 300 sample #: 199 reconstruction error: 0.068810\n",
            "Epoch: 1 batch #: 310  of 300 sample #: 199 reconstruction error: 0.111655\n",
            "Epoch: 1 batch #: 311  of 300 sample #: 199 reconstruction error: 0.060599\n",
            "Epoch: 1 batch #: 312  of 300 sample #: 199 reconstruction error: 0.115782\n",
            "Epoch: 1 batch #: 313  of 300 sample #: 199 reconstruction error: 0.024968\n",
            "Epoch: 1 batch #: 314  of 300 sample #: 199 reconstruction error: 0.070605\n",
            "Epoch: 1 batch #: 315  of 300 sample #: 199 reconstruction error: 0.066467\n",
            "Epoch: 1 batch #: 316  of 300 sample #: 199 reconstruction error: 0.060108\n",
            "Epoch: 1 batch #: 317  of 300 sample #: 199 reconstruction error: 0.052283\n",
            "Epoch: 1 batch #: 318  of 300 sample #: 199 reconstruction error: 0.069860\n",
            "Epoch: 1 batch #: 319  of 300 sample #: 199 reconstruction error: 0.097424\n",
            "Epoch: 1 batch #: 320  of 300 sample #: 199 reconstruction error: 0.085414\n",
            "Epoch: 1 batch #: 321  of 300 sample #: 199 reconstruction error: 0.067875\n",
            "Epoch: 1 batch #: 322  of 300 sample #: 199 reconstruction error: 0.071792\n",
            "Epoch: 1 batch #: 323  of 300 sample #: 199 reconstruction error: 0.095144\n",
            "Epoch: 1 batch #: 324  of 300 sample #: 199 reconstruction error: 0.087064\n",
            "Epoch: 1 batch #: 325  of 300 sample #: 199 reconstruction error: 0.083798\n",
            "Epoch: 1 batch #: 326  of 300 sample #: 199 reconstruction error: 0.067334\n",
            "Epoch: 1 batch #: 327  of 300 sample #: 199 reconstruction error: 0.093392\n",
            "Epoch: 1 batch #: 328  of 300 sample #: 199 reconstruction error: 0.067164\n",
            "Epoch: 1 batch #: 329  of 300 sample #: 199 reconstruction error: 0.085200\n",
            "Epoch: 1 batch #: 330  of 300 sample #: 199 reconstruction error: 0.066324\n",
            "Epoch: 1 batch #: 331  of 300 sample #: 199 reconstruction error: 0.063697\n",
            "Epoch: 1 batch #: 332  of 300 sample #: 199 reconstruction error: 0.094114\n",
            "Epoch: 1 batch #: 333  of 300 sample #: 199 reconstruction error: 0.049243\n",
            "Epoch: 1 batch #: 334  of 300 sample #: 199 reconstruction error: 0.060219\n",
            "Epoch: 1 batch #: 335  of 300 sample #: 199 reconstruction error: 0.062895\n",
            "Epoch: 1 batch #: 336  of 300 sample #: 199 reconstruction error: 0.083543\n",
            "Epoch: 1 batch #: 337  of 300 sample #: 199 reconstruction error: 0.047087\n",
            "Epoch: 1 batch #: 338  of 300 sample #: 199 reconstruction error: 0.056813\n",
            "Epoch: 1 batch #: 339  of 300 sample #: 199 reconstruction error: 0.085204\n",
            "Epoch: 1 batch #: 340  of 300 sample #: 199 reconstruction error: 0.097373\n",
            "Epoch: 1 batch #: 341  of 300 sample #: 199 reconstruction error: 0.058985\n",
            "Epoch: 1 batch #: 342  of 300 sample #: 199 reconstruction error: 0.057591\n",
            "Epoch: 1 batch #: 343  of 300 sample #: 199 reconstruction error: 0.103650\n",
            "Epoch: 1 batch #: 344  of 300 sample #: 199 reconstruction error: 0.053048\n",
            "Epoch: 1 batch #: 345  of 300 sample #: 199 reconstruction error: 0.063793\n",
            "Epoch: 1 batch #: 346  of 300 sample #: 199 reconstruction error: 0.026239\n",
            "Epoch: 1 batch #: 347  of 300 sample #: 199 reconstruction error: 0.051565\n",
            "Epoch: 1 batch #: 348  of 300 sample #: 199 reconstruction error: 0.025420\n",
            "Epoch: 1 batch #: 349  of 300 sample #: 199 reconstruction error: 0.131786\n",
            "Epoch: 1 batch #: 350  of 300 sample #: 199 reconstruction error: 0.047647\n",
            "Epoch: 1 batch #: 351  of 300 sample #: 199 reconstruction error: 0.052767\n",
            "Epoch: 1 batch #: 352  of 300 sample #: 199 reconstruction error: 0.025141\n",
            "Epoch: 1 batch #: 353  of 300 sample #: 199 reconstruction error: 0.081447\n",
            "Epoch: 1 batch #: 354  of 300 sample #: 199 reconstruction error: 0.044221\n",
            "Epoch: 1 batch #: 355  of 300 sample #: 199 reconstruction error: 0.092873\n",
            "Epoch: 1 batch #: 356  of 300 sample #: 199 reconstruction error: 0.043901\n",
            "Epoch: 1 batch #: 357  of 300 sample #: 199 reconstruction error: 0.046924\n",
            "Epoch: 1 batch #: 358  of 300 sample #: 199 reconstruction error: 0.068014\n",
            "Epoch: 1 batch #: 359  of 300 sample #: 199 reconstruction error: 0.053685\n",
            "Epoch: 1 batch #: 360  of 300 sample #: 199 reconstruction error: 0.081099\n",
            "Epoch: 1 batch #: 361  of 300 sample #: 199 reconstruction error: 0.080132\n",
            "Epoch: 1 batch #: 362  of 300 sample #: 199 reconstruction error: 0.052537\n",
            "Epoch: 1 batch #: 363  of 300 sample #: 199 reconstruction error: 0.046798\n",
            "Epoch: 1 batch #: 364  of 300 sample #: 199 reconstruction error: 0.077219\n",
            "Epoch: 1 batch #: 365  of 300 sample #: 199 reconstruction error: 0.080292\n",
            "Epoch: 1 batch #: 366  of 300 sample #: 199 reconstruction error: 0.045155\n",
            "Epoch: 1 batch #: 367  of 300 sample #: 199 reconstruction error: 0.040236\n",
            "Epoch: 1 batch #: 368  of 300 sample #: 199 reconstruction error: 0.054020\n",
            "Epoch: 1 batch #: 369  of 300 sample #: 199 reconstruction error: 0.056557\n",
            "Epoch: 1 batch #: 370  of 300 sample #: 199 reconstruction error: 0.106968\n",
            "Epoch: 1 batch #: 371  of 300 sample #: 199 reconstruction error: 0.074694\n",
            "Epoch: 1 batch #: 372  of 300 sample #: 199 reconstruction error: 0.055573\n",
            "Epoch: 1 batch #: 373  of 300 sample #: 199 reconstruction error: 0.073698\n",
            "Epoch: 1 batch #: 374  of 300 sample #: 199 reconstruction error: 0.081399\n",
            "Epoch: 1 batch #: 375  of 300 sample #: 199 reconstruction error: 0.048948\n",
            "Epoch: 1 batch #: 376  of 300 sample #: 199 reconstruction error: 0.066031\n",
            "Epoch: 1 batch #: 377  of 300 sample #: 199 reconstruction error: 0.089969\n",
            "Epoch: 1 batch #: 378  of 300 sample #: 199 reconstruction error: 0.096701\n",
            "Epoch: 1 batch #: 379  of 300 sample #: 199 reconstruction error: 0.106091\n",
            "Epoch: 1 batch #: 380  of 300 sample #: 199 reconstruction error: 0.031601\n",
            "Epoch: 1 batch #: 381  of 300 sample #: 199 reconstruction error: 0.044727\n",
            "Epoch: 1 batch #: 382  of 300 sample #: 199 reconstruction error: 0.043171\n",
            "Epoch: 1 batch #: 383  of 300 sample #: 199 reconstruction error: 0.070913\n",
            "Epoch: 1 batch #: 384  of 300 sample #: 199 reconstruction error: 0.089878\n",
            "Epoch: 1 batch #: 385  of 300 sample #: 199 reconstruction error: 0.056032\n",
            "Epoch: 1 batch #: 386  of 300 sample #: 199 reconstruction error: 0.072458\n",
            "Epoch: 1 batch #: 387  of 300 sample #: 199 reconstruction error: 0.077006\n",
            "Epoch: 1 batch #: 388  of 300 sample #: 199 reconstruction error: 0.021499\n",
            "Epoch: 1 batch #: 389  of 300 sample #: 199 reconstruction error: 0.047043\n",
            "Epoch: 1 batch #: 390  of 300 sample #: 199 reconstruction error: 0.052686\n",
            "Epoch: 1 batch #: 391  of 300 sample #: 199 reconstruction error: 0.050877\n",
            "Epoch: 1 batch #: 392  of 300 sample #: 199 reconstruction error: 0.054414\n",
            "Epoch: 1 batch #: 393  of 300 sample #: 199 reconstruction error: 0.078293\n",
            "Epoch: 1 batch #: 394  of 300 sample #: 199 reconstruction error: 0.093512\n",
            "Epoch: 1 batch #: 395  of 300 sample #: 199 reconstruction error: 0.053140\n",
            "Epoch: 1 batch #: 396  of 300 sample #: 199 reconstruction error: 0.051239\n",
            "Epoch: 1 batch #: 397  of 300 sample #: 199 reconstruction error: 0.097007\n",
            "Epoch: 1 batch #: 398  of 300 sample #: 199 reconstruction error: 0.090870\n",
            "Epoch: 1 batch #: 399  of 300 sample #: 199 reconstruction error: 0.045256\n",
            "Epoch: 1 batch #: 400  of 300 sample #: 199 reconstruction error: 0.086869\n",
            "Epoch: 1 batch #: 401  of 300 sample #: 199 reconstruction error: 0.068725\n",
            "Epoch: 1 batch #: 402  of 300 sample #: 199 reconstruction error: 0.081221\n",
            "Epoch: 1 batch #: 403  of 300 sample #: 199 reconstruction error: 0.078304\n",
            "Epoch: 1 batch #: 404  of 300 sample #: 199 reconstruction error: 0.060513\n",
            "Epoch: 1 batch #: 405  of 300 sample #: 199 reconstruction error: 0.057655\n",
            "Epoch: 1 batch #: 406  of 300 sample #: 199 reconstruction error: 0.097558\n",
            "Epoch: 1 batch #: 407  of 300 sample #: 199 reconstruction error: 0.131670\n",
            "Epoch: 1 batch #: 408  of 300 sample #: 199 reconstruction error: 0.055727\n",
            "Epoch: 1 batch #: 409  of 300 sample #: 199 reconstruction error: 0.130423\n",
            "Epoch: 1 batch #: 410  of 300 sample #: 199 reconstruction error: 0.057021\n",
            "Epoch: 1 batch #: 411  of 300 sample #: 199 reconstruction error: 0.088482\n",
            "Epoch: 1 batch #: 412  of 300 sample #: 199 reconstruction error: 0.038180\n",
            "Epoch: 1 batch #: 413  of 300 sample #: 199 reconstruction error: 0.079031\n",
            "Epoch: 1 batch #: 414  of 300 sample #: 199 reconstruction error: 0.077300\n",
            "Epoch: 1 batch #: 415  of 300 sample #: 199 reconstruction error: 0.055539\n",
            "Epoch: 1 batch #: 416  of 300 sample #: 199 reconstruction error: 0.043427\n",
            "Epoch: 1 batch #: 417  of 300 sample #: 199 reconstruction error: 0.040912\n",
            "Epoch: 1 batch #: 418  of 300 sample #: 199 reconstruction error: 0.067113\n",
            "Epoch: 1 batch #: 419  of 300 sample #: 199 reconstruction error: 0.119922\n",
            "Epoch: 1 batch #: 420  of 300 sample #: 199 reconstruction error: 0.069273\n",
            "Epoch: 1 batch #: 421  of 300 sample #: 199 reconstruction error: 0.040412\n",
            "Epoch: 1 batch #: 422  of 300 sample #: 199 reconstruction error: 0.088632\n",
            "Epoch: 1 batch #: 423  of 300 sample #: 199 reconstruction error: 0.065213\n",
            "Epoch: 1 batch #: 424  of 300 sample #: 199 reconstruction error: 0.057117\n",
            "Epoch: 1 batch #: 425  of 300 sample #: 199 reconstruction error: 0.043030\n",
            "Epoch: 1 batch #: 426  of 300 sample #: 199 reconstruction error: 0.085562\n",
            "Epoch: 1 batch #: 427  of 300 sample #: 199 reconstruction error: 0.088374\n",
            "Epoch: 1 batch #: 428  of 300 sample #: 199 reconstruction error: 0.074519\n",
            "Epoch: 1 batch #: 429  of 300 sample #: 199 reconstruction error: 0.051835\n",
            "Epoch: 1 batch #: 430  of 300 sample #: 199 reconstruction error: 0.077180\n",
            "Epoch: 1 batch #: 431  of 300 sample #: 199 reconstruction error: 0.069980\n",
            "Epoch: 1 batch #: 432  of 300 sample #: 199 reconstruction error: 0.055489\n",
            "Epoch: 1 batch #: 433  of 300 sample #: 199 reconstruction error: 0.063343\n",
            "Epoch: 1 batch #: 434  of 300 sample #: 199 reconstruction error: 0.095462\n",
            "Epoch: 1 batch #: 435  of 300 sample #: 199 reconstruction error: 0.086495\n",
            "Epoch: 1 batch #: 436  of 300 sample #: 199 reconstruction error: 0.092070\n",
            "Epoch: 1 batch #: 437  of 300 sample #: 199 reconstruction error: 0.073448\n",
            "Epoch: 1 batch #: 438  of 300 sample #: 199 reconstruction error: 0.078339\n",
            "Epoch: 1 batch #: 439  of 300 sample #: 199 reconstruction error: 0.123840\n",
            "Epoch: 1 batch #: 440  of 300 sample #: 199 reconstruction error: 0.081163\n",
            "Epoch: 1 batch #: 441  of 300 sample #: 199 reconstruction error: 0.062347\n",
            "Epoch: 1 batch #: 442  of 300 sample #: 199 reconstruction error: 0.059640\n",
            "Epoch: 1 batch #: 443  of 300 sample #: 199 reconstruction error: 0.044066\n",
            "Epoch: 1 batch #: 444  of 300 sample #: 199 reconstruction error: 0.060370\n",
            "Epoch: 1 batch #: 445  of 300 sample #: 199 reconstruction error: 0.079516\n",
            "Epoch: 1 batch #: 446  of 300 sample #: 199 reconstruction error: 0.108427\n",
            "Epoch: 1 batch #: 447  of 300 sample #: 199 reconstruction error: 0.080579\n",
            "Epoch: 1 batch #: 448  of 300 sample #: 199 reconstruction error: 0.087464\n",
            "Epoch: 1 batch #: 449  of 300 sample #: 199 reconstruction error: 0.042957\n",
            "Epoch: 1 batch #: 450  of 300 sample #: 199 reconstruction error: 0.035166\n",
            "Epoch: 1 batch #: 451  of 300 sample #: 199 reconstruction error: 0.106982\n",
            "Epoch: 1 batch #: 452  of 300 sample #: 199 reconstruction error: 0.081258\n",
            "Epoch: 1 batch #: 453  of 300 sample #: 199 reconstruction error: 0.063408\n",
            "Epoch: 1 batch #: 454  of 300 sample #: 199 reconstruction error: 0.061332\n",
            "Epoch: 1 batch #: 455  of 300 sample #: 199 reconstruction error: 0.071206\n",
            "Epoch: 1 batch #: 456  of 300 sample #: 199 reconstruction error: 0.059445\n",
            "Epoch: 1 batch #: 457  of 300 sample #: 199 reconstruction error: 0.067399\n",
            "Epoch: 1 batch #: 458  of 300 sample #: 199 reconstruction error: 0.070014\n",
            "Epoch: 1 batch #: 459  of 300 sample #: 199 reconstruction error: 0.058811\n",
            "Epoch: 1 batch #: 460  of 300 sample #: 199 reconstruction error: 0.082993\n",
            "Epoch: 1 batch #: 461  of 300 sample #: 199 reconstruction error: 0.089393\n",
            "Epoch: 1 batch #: 462  of 300 sample #: 199 reconstruction error: 0.104140\n",
            "Epoch: 1 batch #: 463  of 300 sample #: 199 reconstruction error: 0.039232\n",
            "Epoch: 1 batch #: 464  of 300 sample #: 199 reconstruction error: 0.055146\n",
            "Epoch: 1 batch #: 465  of 300 sample #: 199 reconstruction error: 0.063503\n",
            "Epoch: 1 batch #: 466  of 300 sample #: 199 reconstruction error: 0.051472\n",
            "Epoch: 1 batch #: 467  of 300 sample #: 199 reconstruction error: 0.097684\n",
            "Epoch: 1 batch #: 468  of 300 sample #: 199 reconstruction error: 0.046800\n",
            "Epoch: 1 batch #: 469  of 300 sample #: 199 reconstruction error: 0.033259\n",
            "Epoch: 1 batch #: 470  of 300 sample #: 199 reconstruction error: 0.042837\n",
            "Epoch: 1 batch #: 471  of 300 sample #: 199 reconstruction error: 0.030486\n",
            "Epoch: 1 batch #: 472  of 300 sample #: 199 reconstruction error: 0.037647\n",
            "Epoch: 1 batch #: 473  of 300 sample #: 199 reconstruction error: 0.070563\n",
            "Epoch: 1 batch #: 474  of 300 sample #: 199 reconstruction error: 0.100240\n",
            "Epoch: 1 batch #: 475  of 300 sample #: 199 reconstruction error: 0.077935\n",
            "Epoch: 1 batch #: 476  of 300 sample #: 199 reconstruction error: 0.051689\n",
            "Epoch: 1 batch #: 477  of 300 sample #: 199 reconstruction error: 0.033511\n",
            "Epoch: 1 batch #: 478  of 300 sample #: 199 reconstruction error: 0.093981\n",
            "Epoch: 1 batch #: 479  of 300 sample #: 199 reconstruction error: 0.069822\n",
            "Epoch: 1 batch #: 480  of 300 sample #: 199 reconstruction error: 0.081640\n",
            "Epoch: 1 batch #: 481  of 300 sample #: 199 reconstruction error: 0.084698\n",
            "Epoch: 1 batch #: 482  of 300 sample #: 199 reconstruction error: 0.066442\n",
            "Epoch: 1 batch #: 483  of 300 sample #: 199 reconstruction error: 0.132148\n",
            "Epoch: 1 batch #: 484  of 300 sample #: 199 reconstruction error: 0.063348\n",
            "Epoch: 1 batch #: 485  of 300 sample #: 199 reconstruction error: 0.093867\n",
            "Epoch: 1 batch #: 486  of 300 sample #: 199 reconstruction error: 0.091449\n",
            "Epoch: 1 batch #: 487  of 300 sample #: 199 reconstruction error: 0.046674\n",
            "Epoch: 1 batch #: 488  of 300 sample #: 199 reconstruction error: 0.111055\n",
            "Epoch: 1 batch #: 489  of 300 sample #: 199 reconstruction error: 0.066397\n",
            "Epoch: 1 batch #: 490  of 300 sample #: 199 reconstruction error: 0.065754\n",
            "Epoch: 1 batch #: 491  of 300 sample #: 199 reconstruction error: 0.129357\n",
            "Epoch: 1 batch #: 492  of 300 sample #: 199 reconstruction error: 0.099446\n",
            "Epoch: 1 batch #: 493  of 300 sample #: 199 reconstruction error: 0.115444\n",
            "Epoch: 1 batch #: 494  of 300 sample #: 199 reconstruction error: 0.064998\n",
            "Epoch: 1 batch #: 495  of 300 sample #: 199 reconstruction error: 0.049400\n",
            "Epoch: 1 batch #: 496  of 300 sample #: 199 reconstruction error: 0.058237\n",
            "Epoch: 1 batch #: 497  of 300 sample #: 199 reconstruction error: 0.048332\n",
            "Epoch: 1 batch #: 498  of 300 sample #: 199 reconstruction error: 0.094461\n",
            "Epoch: 1 batch #: 499  of 300 sample #: 199 reconstruction error: 0.071090\n",
            "Epoch: 1 batch #: 500  of 300 sample #: 199 reconstruction error: 0.099475\n",
            "Epoch: 1 batch #: 501  of 300 sample #: 199 reconstruction error: 0.093684\n",
            "Epoch: 1 batch #: 502  of 300 sample #: 199 reconstruction error: 0.036291\n",
            "Epoch: 1 batch #: 503  of 300 sample #: 199 reconstruction error: 0.076901\n",
            "Epoch: 1 batch #: 504  of 300 sample #: 199 reconstruction error: 0.054696\n",
            "Epoch: 1 batch #: 505  of 300 sample #: 199 reconstruction error: 0.021095\n",
            "Epoch: 1 batch #: 506  of 300 sample #: 199 reconstruction error: 0.069480\n",
            "Epoch: 1 batch #: 507  of 300 sample #: 199 reconstruction error: 0.092592\n",
            "Epoch: 1 batch #: 508  of 300 sample #: 199 reconstruction error: 0.043611\n",
            "Epoch: 1 batch #: 509  of 300 sample #: 199 reconstruction error: 0.034112\n",
            "Epoch: 1 batch #: 510  of 300 sample #: 199 reconstruction error: 0.107850\n",
            "Epoch: 1 batch #: 511  of 300 sample #: 199 reconstruction error: 0.102588\n",
            "Epoch: 1 batch #: 512  of 300 sample #: 199 reconstruction error: 0.079785\n",
            "Epoch: 1 batch #: 513  of 300 sample #: 199 reconstruction error: 0.094195\n",
            "Epoch: 1 batch #: 514  of 300 sample #: 199 reconstruction error: 0.082856\n",
            "Epoch: 1 batch #: 515  of 300 sample #: 199 reconstruction error: 0.029717\n",
            "Epoch: 1 batch #: 516  of 300 sample #: 199 reconstruction error: 0.103708\n",
            "Epoch: 1 batch #: 517  of 300 sample #: 199 reconstruction error: 0.092060\n",
            "Epoch: 1 batch #: 518  of 300 sample #: 199 reconstruction error: 0.064740\n",
            "Epoch: 1 batch #: 519  of 300 sample #: 199 reconstruction error: 0.082065\n",
            "Epoch: 1 batch #: 520  of 300 sample #: 199 reconstruction error: 0.059881\n",
            "Epoch: 1 batch #: 521  of 300 sample #: 199 reconstruction error: 0.101188\n",
            "Epoch: 1 batch #: 522  of 300 sample #: 199 reconstruction error: 0.091808\n",
            "Epoch: 1 batch #: 523  of 300 sample #: 199 reconstruction error: 0.080676\n",
            "Epoch: 1 batch #: 524  of 300 sample #: 199 reconstruction error: 0.069073\n",
            "Epoch: 1 batch #: 525  of 300 sample #: 199 reconstruction error: 0.068983\n",
            "Epoch: 1 batch #: 526  of 300 sample #: 199 reconstruction error: 0.109010\n",
            "Epoch: 1 batch #: 527  of 300 sample #: 199 reconstruction error: 0.083028\n",
            "Epoch: 1 batch #: 528  of 300 sample #: 199 reconstruction error: 0.066286\n",
            "Epoch: 1 batch #: 529  of 300 sample #: 199 reconstruction error: 0.079101\n",
            "Epoch: 1 batch #: 530  of 300 sample #: 199 reconstruction error: 0.036564\n",
            "Epoch: 1 batch #: 531  of 300 sample #: 199 reconstruction error: 0.022363\n",
            "Epoch: 1 batch #: 532  of 300 sample #: 199 reconstruction error: 0.080118\n",
            "Epoch: 1 batch #: 533  of 300 sample #: 199 reconstruction error: 0.092669\n",
            "Epoch: 1 batch #: 534  of 300 sample #: 199 reconstruction error: 0.063181\n",
            "Epoch: 1 batch #: 535  of 300 sample #: 199 reconstruction error: 0.064108\n",
            "Epoch: 1 batch #: 536  of 300 sample #: 199 reconstruction error: 0.093734\n",
            "Epoch: 1 batch #: 537  of 300 sample #: 199 reconstruction error: 0.085187\n",
            "Epoch: 1 batch #: 538  of 300 sample #: 199 reconstruction error: 0.112394\n",
            "Epoch: 1 batch #: 539  of 300 sample #: 199 reconstruction error: 0.033482\n",
            "Epoch: 1 batch #: 540  of 300 sample #: 199 reconstruction error: 0.102218\n",
            "Epoch: 1 batch #: 541  of 300 sample #: 199 reconstruction error: 0.087973\n",
            "Epoch: 1 batch #: 542  of 300 sample #: 199 reconstruction error: 0.074432\n",
            "Epoch: 1 batch #: 543  of 300 sample #: 199 reconstruction error: 0.077083\n",
            "Epoch: 1 batch #: 544  of 300 sample #: 199 reconstruction error: 0.078372\n",
            "Epoch: 1 batch #: 545  of 300 sample #: 199 reconstruction error: 0.048307\n",
            "Epoch: 1 batch #: 546  of 300 sample #: 199 reconstruction error: 0.099374\n",
            "Epoch: 1 batch #: 547  of 300 sample #: 199 reconstruction error: 0.055824\n",
            "Epoch: 1 batch #: 548  of 300 sample #: 199 reconstruction error: 0.060379\n",
            "Epoch: 1 batch #: 549  of 300 sample #: 199 reconstruction error: 0.056565\n",
            "Epoch: 1 batch #: 550  of 300 sample #: 199 reconstruction error: 0.088452\n",
            "Epoch: 1 batch #: 551  of 300 sample #: 199 reconstruction error: 0.050012\n",
            "Epoch: 1 batch #: 552  of 300 sample #: 199 reconstruction error: 0.073678\n",
            "Epoch: 1 batch #: 553  of 300 sample #: 199 reconstruction error: 0.060257\n",
            "Epoch: 1 batch #: 554  of 300 sample #: 199 reconstruction error: 0.033014\n",
            "Epoch: 1 batch #: 555  of 300 sample #: 199 reconstruction error: 0.058959\n",
            "Epoch: 1 batch #: 556  of 300 sample #: 199 reconstruction error: 0.073043\n",
            "Epoch: 1 batch #: 557  of 300 sample #: 199 reconstruction error: 0.077768\n",
            "Epoch: 1 batch #: 558  of 300 sample #: 199 reconstruction error: 0.107276\n",
            "Epoch: 1 batch #: 559  of 300 sample #: 199 reconstruction error: 0.073112\n",
            "Epoch: 1 batch #: 560  of 300 sample #: 199 reconstruction error: 0.097833\n",
            "Epoch: 1 batch #: 561  of 300 sample #: 199 reconstruction error: 0.035517\n",
            "Epoch: 1 batch #: 562  of 300 sample #: 199 reconstruction error: 0.056149\n",
            "Epoch: 1 batch #: 563  of 300 sample #: 199 reconstruction error: 0.067983\n",
            "Epoch: 1 batch #: 564  of 300 sample #: 199 reconstruction error: 0.068992\n",
            "Epoch: 1 batch #: 565  of 300 sample #: 199 reconstruction error: 0.073830\n",
            "Epoch: 1 batch #: 566  of 300 sample #: 199 reconstruction error: 0.040115\n",
            "Epoch: 1 batch #: 567  of 300 sample #: 199 reconstruction error: 0.057682\n",
            "Epoch: 1 batch #: 568  of 300 sample #: 199 reconstruction error: 0.024090\n",
            "Epoch: 1 batch #: 569  of 300 sample #: 199 reconstruction error: 0.089233\n",
            "Epoch: 1 batch #: 570  of 300 sample #: 199 reconstruction error: 0.065140\n",
            "Epoch: 1 batch #: 571  of 300 sample #: 199 reconstruction error: 0.052906\n",
            "Epoch: 1 batch #: 572  of 300 sample #: 199 reconstruction error: 0.056944\n",
            "Epoch: 1 batch #: 573  of 300 sample #: 199 reconstruction error: 0.042242\n",
            "Epoch: 1 batch #: 574  of 300 sample #: 199 reconstruction error: 0.046318\n",
            "Epoch: 1 batch #: 575  of 300 sample #: 199 reconstruction error: 0.101452\n",
            "Epoch: 1 batch #: 576  of 300 sample #: 199 reconstruction error: 0.076838\n",
            "Epoch: 1 batch #: 577  of 300 sample #: 199 reconstruction error: 0.092687\n",
            "Epoch: 1 batch #: 578  of 300 sample #: 199 reconstruction error: 0.047420\n",
            "Epoch: 1 batch #: 579  of 300 sample #: 199 reconstruction error: 0.043838\n",
            "Epoch: 1 batch #: 580  of 300 sample #: 199 reconstruction error: 0.068885\n",
            "Epoch: 1 batch #: 581  of 300 sample #: 199 reconstruction error: 0.070217\n",
            "Epoch: 1 batch #: 582  of 300 sample #: 199 reconstruction error: 0.093806\n",
            "Epoch: 1 batch #: 583  of 300 sample #: 199 reconstruction error: 0.046812\n",
            "Epoch: 1 batch #: 584  of 300 sample #: 199 reconstruction error: 0.044390\n",
            "Epoch: 1 batch #: 585  of 300 sample #: 199 reconstruction error: 0.071573\n",
            "Epoch: 1 batch #: 586  of 300 sample #: 199 reconstruction error: 0.084544\n",
            "Epoch: 1 batch #: 587  of 300 sample #: 199 reconstruction error: 0.078187\n",
            "Epoch: 1 batch #: 588  of 300 sample #: 199 reconstruction error: 0.031169\n",
            "Epoch: 1 batch #: 589  of 300 sample #: 199 reconstruction error: 0.065079\n",
            "Epoch: 1 batch #: 590  of 300 sample #: 199 reconstruction error: 0.098374\n",
            "Epoch: 1 batch #: 591  of 300 sample #: 199 reconstruction error: 0.109789\n",
            "Epoch: 1 batch #: 592  of 300 sample #: 199 reconstruction error: 0.074044\n",
            "Epoch: 1 batch #: 593  of 300 sample #: 199 reconstruction error: 0.067285\n",
            "Epoch: 1 batch #: 594  of 300 sample #: 199 reconstruction error: 0.095496\n",
            "Epoch: 1 batch #: 595  of 300 sample #: 199 reconstruction error: 0.086472\n",
            "Epoch: 1 batch #: 596  of 300 sample #: 199 reconstruction error: 0.029234\n",
            "Epoch: 1 batch #: 597  of 300 sample #: 199 reconstruction error: 0.147679\n",
            "Epoch: 1 batch #: 598  of 300 sample #: 199 reconstruction error: 0.062296\n",
            "Epoch: 1 batch #: 599  of 300 sample #: 199 reconstruction error: 0.050541\n",
            "Epoch: 1 batch #: 600  of 300 sample #: 199 reconstruction error: 0.088757\n"
          ],
          "name": "stdout"
        }
      ]
    },
    {
      "cell_type": "markdown",
      "metadata": {
        "id": "3XDohd4m8OvJ"
      },
      "source": [
        "Let's take a look at the errors at the end of each batch:\n"
      ]
    },
    {
      "cell_type": "code",
      "metadata": {
        "colab": {
          "base_uri": "https://localhost:8080/",
          "height": 279
        },
        "id": "da2rxJAc8OvJ",
        "outputId": "6541577f-a47b-4c0e-a2a1-4f42f14d0b90"
      },
      "source": [
        "plt.plot(errors)\n",
        "plt.xlabel(\"Batch Number\")\n",
        "plt.ylabel(\"Error\")\n",
        "plt.show()"
      ],
      "execution_count": null,
      "outputs": [
        {
          "output_type": "display_data",
          "data": {
            "image/png": "[encoded data removed]",
            "text/plain": [
              "<Figure size 432x288 with 1 Axes>"
            ]
          },
          "metadata": {
            "tags": [],
            "needs_background": "light"
          }
        }
      ]
    },
    {
      "cell_type": "markdown",
      "metadata": {
        "id": "h5mmDHI78OvJ"
      },
      "source": [
        "What is the final weight matrix $W$ after training?\n"
      ]
    },
    {
      "cell_type": "code",
      "metadata": {
        "colab": {
          "base_uri": "https://localhost:8080/"
        },
        "id": "or7kg1RR8OvJ",
        "outputId": "16e8a8b4-2522-486b-9ff3-93a18bb4da75"
      },
      "source": [
        "print(W.numpy()) # a weight matrix of shape (50,784)"
      ],
      "execution_count": null,
      "outputs": [
        {
          "output_type": "stream",
          "text": [
            "[[-0.40999976 -0.38099977 -0.2779999  ... -0.3249999  -0.23700005\n",
            "  -0.27999988]\n",
            " [-0.4959996  -0.3599998  -0.2969999  ... -0.28499994 -0.17800002\n",
            "  -0.20400004]\n",
            " [-0.45499977 -0.32999983 -0.33599988 ... -0.3439999  -0.22100003\n",
            "  -0.27399996]\n",
            " ...\n",
            " [-0.45799974 -0.40399972 -0.3429999  ... -0.2959999  -0.271\n",
            "  -0.29299995]\n",
            " [-0.36799982 -0.3789998  -0.2979999  ... -0.26299998 -0.23700005\n",
            "  -0.21500003]\n",
            " [-0.38999978 -0.43599978 -0.29299995 ... -0.3239999  -0.24400005\n",
            "  -0.25100002]]\n"
          ],
          "name": "stdout"
        }
      ]
    }
  ]
}