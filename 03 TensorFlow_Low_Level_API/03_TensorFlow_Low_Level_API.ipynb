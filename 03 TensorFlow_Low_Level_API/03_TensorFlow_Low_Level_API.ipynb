{
  "nbformat": 4,
  "nbformat_minor": 0,
  "metadata": {
    "colab": {
      "name": "03 TensorFlow: Low Level API.ipynb",
      "provenance": [],
      "collapsed_sections": []
    },
    "kernelspec": {
      "name": "python3",
      "display_name": "Python 3"
    }
  },
  "cells": [
    {
      "cell_type": "markdown",
      "metadata": {
        "id": "6C4p3Hf3px0A"
      },
      "source": [
        "## **Introduction to Variables**\n",
        "\n",
        "A TensorFlow **variable** is the recommended way to represent shared, persistent state your program manipulates. This guide covers how to create, update, and manage instances of `tf.Variable` in TensorFlow.\n",
        "\n",
        "Variables are created and tracked via the `tf.Variable` class. A `tf.Variable` represents a tensor whose value can be changed by running ops on it.  Specific ops allow you to read and modify the values of this tensor. Higher level libraries like `tf.keras` use `tf.Variable` to store model parameters. \n"
      ]
    },
    {
      "cell_type": "code",
      "metadata": {
        "id": "_glbEQwFcKvI"
      },
      "source": [
        "import tensorflow as tf\n",
        "\n",
        "# Uncomment to see where your variables get placed (see below)\n",
        "# tf.debugging.set_log_device_placement(True)"
      ],
      "execution_count": 46,
      "outputs": []
    },
    {
      "cell_type": "code",
      "metadata": {
        "id": "HRrra-yrsho2"
      },
      "source": [
        "# TODO 3a\n",
        "my_tensor = tf.constant(5)\n",
        "my_variable = tf.Variable([[4,6],[5,6]])\n",
        "\n",
        "# Variables can be all kinds of types, just like tensors\n",
        "bool_variable = tf.Variable([False, False, False, True])\n",
        "complex_variable = tf.Variable([5 + 4j, 6 + 1j])"
      ],
      "execution_count": 47,
      "outputs": []
    },
    {
      "cell_type": "markdown",
      "metadata": {
        "id": "3dzYl6Qds3Le"
      },
      "source": [
        "A variable looks and acts like a tensor, and, in fact, is a data structure backed by a `tf.Tensor`.  Like tensors, they have a `dtype` and a shape, and can be exported to NumPy."
      ]
    },
    {
      "cell_type": "code",
      "metadata": {
        "colab": {
          "base_uri": "https://localhost:8080/"
        },
        "id": "aCijlIQTs38o",
        "outputId": "d4a69122-5714-421c-bee6-592d0c39016d"
      },
      "source": [
        "print(\"Shape: \",my_variable.shape)\n",
        "print(\"DType: \",my_variable.dtype)\n",
        "print(\"As NumPy: \", my_variable.numpy)"
      ],
      "execution_count": 48,
      "outputs": [
        {
          "output_type": "stream",
          "text": [
            "Shape:  (2, 2)\n",
            "DType:  <dtype: 'int32'>\n",
            "As NumPy:  <bound method BaseResourceVariable.numpy of <tf.Variable 'Variable:0' shape=(2, 2) dtype=int32, numpy=\n",
            "array([[4, 6],\n",
            "       [5, 6]], dtype=int32)>>\n"
          ],
          "name": "stdout"
        }
      ]
    },
    {
      "cell_type": "markdown",
      "metadata": {
        "id": "Z6lep0zUtK4V"
      },
      "source": [
        "Most tensor operations work on variables as expected, although variables cannot be reshaped."
      ]
    },
    {
      "cell_type": "code",
      "metadata": {
        "colab": {
          "base_uri": "https://localhost:8080/"
        },
        "id": "Ls7IDNZntLi4",
        "outputId": "dddcd0ea-3cc8-4324-df91-a18778bdca18"
      },
      "source": [
        "print(\"A variable:\",my_variable)\n",
        "print(\"\\nViewed as a tensor:\", tf.convert_to_tensor(my_variable))\n",
        "print(\"\\nIndex of highest value:\", tf.argmax(my_variable))\n",
        "\n",
        "# This creates a new tensor; it does not reshape the variable.\n",
        "print(\"\\nCopying and reshaping: \", tf.reshape(my_variable, ([1,4])))"
      ],
      "execution_count": 49,
      "outputs": [
        {
          "output_type": "stream",
          "text": [
            "A variable: <tf.Variable 'Variable:0' shape=(2, 2) dtype=int32, numpy=\n",
            "array([[4, 6],\n",
            "       [5, 6]], dtype=int32)>\n",
            "\n",
            "Viewed as a tensor: tf.Tensor(\n",
            "[[4 6]\n",
            " [5 6]], shape=(2, 2), dtype=int32)\n",
            "\n",
            "Index of highest value: tf.Tensor([1 0], shape=(2,), dtype=int64)\n",
            "\n",
            "Copying and reshaping:  tf.Tensor([[4 6 5 6]], shape=(1, 4), dtype=int32)\n"
          ],
          "name": "stdout"
        }
      ]
    },
    {
      "cell_type": "markdown",
      "metadata": {
        "id": "AckSud05tUnn"
      },
      "source": [
        "As noted above, variables are backed by tensors. You can reassign the tensor using `tf.Variable.assign`.  Calling `assign` does not (usually) allocate a new tensor; instead, the existing tensor's memory is reused."
      ]
    },
    {
      "cell_type": "code",
      "metadata": {
        "colab": {
          "base_uri": "https://localhost:8080/"
        },
        "id": "2Yedhw2DtZE-",
        "outputId": "52b85b34-ce4a-45c5-cae4-c3f3e996eb2f"
      },
      "source": [
        "a = tf.Variable([2.0, 3.0])\n",
        "# This will keep the same dtype, float32\n",
        "a.assign([1, 2]) \n",
        "# Not allowed as it resizes the variable: \n",
        "try:\n",
        "  a.assign([1.0, 2.0, 3.0])\n",
        "except Exception as e: print(e)\n"
      ],
      "execution_count": 50,
      "outputs": [
        {
          "output_type": "stream",
          "text": [
            "Shapes (2,) and (3,) are incompatible\n"
          ],
          "name": "stdout"
        }
      ]
    },
    {
      "cell_type": "markdown",
      "metadata": {
        "id": "2ltTh6-qtf0h"
      },
      "source": [
        "If you use a variable like a tensor in operations, you will usually operate on the backing tensor.  \n",
        "\n",
        "Creating new variables from existing variables duplicates the backing tensors. Two variables will not share the same memory."
      ]
    },
    {
      "cell_type": "code",
      "metadata": {
        "colab": {
          "base_uri": "https://localhost:8080/"
        },
        "id": "9Hm8BQ_4tkBm",
        "outputId": "a90c1555-8079-4bff-8978-400a87827225"
      },
      "source": [
        "a = tf.Variable([2.0, 3.0])\n",
        "# Create b based on the value of a\n",
        "b = tf.Variable(a)\n",
        "a.assign([5, 6])\n",
        "\n",
        "# a and b are different\n",
        "print(a.numpy())\n",
        "print(b.numpy())\n",
        "\n",
        "# There are other versions of assign\n",
        "print(a.assign_add([2,3]).numpy())  # [7. 9.]\n",
        "print(a.assign_sub([7,9]).numpy())  # [0. 0.]"
      ],
      "execution_count": 51,
      "outputs": [
        {
          "output_type": "stream",
          "text": [
            "[5. 6.]\n",
            "[2. 3.]\n",
            "[7. 9.]\n",
            "[0. 0.]\n"
          ],
          "name": "stdout"
        }
      ]
    },
    {
      "cell_type": "markdown",
      "metadata": {
        "id": "60CAGbl7tnNx"
      },
      "source": [
        "## **Lifecycles, naming, and watching**\n",
        "\n",
        "In Python-based TensorFlow, `tf.Variable` instance have the same lifecycle as other Python objects. When there are no references to a variable it is automatically deallocated.\n",
        "\n",
        "Variables can also be named which can help you track and debug them.  You can give two variables the same name."
      ]
    },
    {
      "cell_type": "code",
      "metadata": {
        "colab": {
          "base_uri": "https://localhost:8080/"
        },
        "id": "qHFvEJagtvEX",
        "outputId": "c63898b1-85c9-4233-c12b-7dac7981a0f8"
      },
      "source": [
        "# Create a and b; they have the same value but are backed by different tensors.\n",
        "a = tf.Variable(my_tensor, name=\"Mark\")\n",
        "# A new variable with the same name, but different value\n",
        "# Note that the scalar add is broadcast\n",
        "b = tf.Variable(my_tensor + 1, name=\"Mark\")\n",
        "\n",
        "# These are elementwise-unequal, despite having the same name\n",
        "print(a == b)"
      ],
      "execution_count": 52,
      "outputs": [
        {
          "output_type": "stream",
          "text": [
            "tf.Tensor(False, shape=(), dtype=bool)\n"
          ],
          "name": "stdout"
        }
      ]
    },
    {
      "cell_type": "markdown",
      "metadata": {
        "id": "9Y2gIcIft34u"
      },
      "source": [
        "Variable names are preserved when saving and loading models. By default, variables in models will acquire unique variable names automatically, so you don't need to assign them yourself unless you want to.\n",
        "\n",
        "Although variables are important for differentiation, some variables will not need to be differentiated.  You can turn off gradients for a variable by setting `trainable` to false at creation. An example of a variable that would not need gradients is a training step counter."
      ]
    },
    {
      "cell_type": "code",
      "metadata": {
        "id": "yYDFL8F4t4xk"
      },
      "source": [
        "step_counter = tf.Variable(1, trainable=False)"
      ],
      "execution_count": 53,
      "outputs": []
    },
    {
      "cell_type": "markdown",
      "metadata": {
        "id": "ZsVDINC4uFVa"
      },
      "source": [
        "## Placing variables and tensors\n",
        "\n",
        "For better performance, TensorFlow will attempt to place tensors and variables on the fastest device compatible with its `dtype`.  This means most variables are placed on a GPU if one is available.\n",
        "\n",
        "However, we can override this.  In this snippet, we can place a float tensor and a variable on the CPU, even if a GPU is available.  By turning on device placement logging, we can see where the variable is placed. \n",
        "\n",
        "Note: Although manual placement works, using  can be a more convenient and scalable way to optimize your computation.\n",
        "\n",
        "If you run this notebook on different backends with and without a GPU you will see different logging.  *Note that logging device placement must be turned on at the start of the session.*"
      ]
    },
    {
      "cell_type": "code",
      "metadata": {
        "colab": {
          "base_uri": "https://localhost:8080/"
        },
        "id": "wsiAh0OKuIYl",
        "outputId": "9d246846-d1f3-4d04-aa30-4ec7fff8ed0c"
      },
      "source": [
        "with tf.device('CPU:0'):\n",
        "\n",
        "  # Create some tensors\n",
        "  a = tf.Variable([[1.0, 2.0, 3.0], [4.0, 5.0, 6.0]])\n",
        "  b = tf.constant([[1.0, 2.0], [3.0, 4.0], [5.0, 6.0]])\n",
        "  c = tf.matmul(a, b)\n",
        "\n",
        "print(c)"
      ],
      "execution_count": 54,
      "outputs": [
        {
          "output_type": "stream",
          "text": [
            "tf.Tensor(\n",
            "[[22. 28.]\n",
            " [49. 64.]], shape=(2, 2), dtype=float32)\n"
          ],
          "name": "stdout"
        }
      ]
    },
    {
      "cell_type": "markdown",
      "metadata": {
        "id": "W3qxnqqfubQl"
      },
      "source": [
        "It's possible to set the location of a variable or tensor on one device and do the computation on another device.  This will introduce delay, as data needs to be copied between the devices.\n",
        "\n",
        "You might do this, however, if you had multiple GPU workers but only want one copy of the variables."
      ]
    },
    {
      "cell_type": "code",
      "metadata": {
        "colab": {
          "base_uri": "https://localhost:8080/"
        },
        "id": "Ksx3WmqDue1Q",
        "outputId": "e034bbc6-d3bf-4785-b9b1-7723254da380"
      },
      "source": [
        "with tf.device('CPU:0'):\n",
        "  a = tf.Variable([[1.0, 2.0, 3.0], [4.0, 5.0, 6.0]])\n",
        "  b = tf.Variable([[1.0, 2.0, 3.0]])\n",
        "\n",
        "with tf.device('GPU:0'):\n",
        "  # Element-wise multiply\n",
        "  k = a * b\n",
        "\n",
        "print(k)"
      ],
      "execution_count": 55,
      "outputs": [
        {
          "output_type": "stream",
          "text": [
            "tf.Tensor(\n",
            "[[ 1.  4.  9.]\n",
            " [ 4. 10. 18.]], shape=(2, 3), dtype=float32)\n"
          ],
          "name": "stdout"
        }
      ]
    },
    {
      "cell_type": "markdown",
      "metadata": {
        "id": "WVEwwHn8ul0e"
      },
      "source": [
        "Note: Because `tf.config.set_soft_device_placement` is turned on by default, even if you run this code on a device without a GPU, it will still run and the multiplication step happen on the CPU."
      ]
    },
    {
      "cell_type": "markdown",
      "metadata": {
        "id": "Vd2w1DLyu5Y8"
      },
      "source": [
        "# **Writing Low-Level TensorFlow Code**\n",
        "\n",
        "\n",
        "**Learning Objectives**\n",
        "\n",
        " 1. Practice defining and performing basic operations on constant Tensors\n",
        " 2. Use Tensorflow's automatic differentiation capability\n",
        " 3. Learn how to train a linear regression from scratch with TensorFLow\n",
        "\n",
        "\n",
        "## **Introduction** \n",
        "\n",
        "In this notebook, we will start by reviewing the main operations on Tensors in TensorFlow and understand how to manipulate TensorFlow Variables. We explain how these are compatible with python built-in list and numpy arrays. \n",
        "\n",
        "Then we will jump to the problem of training a linear regression from scratch with gradient descent. The first order of business will be to understand how to compute the gradients of a function (the loss here) with respect to some of its arguments (the model weights here). The TensorFlow construct allowing us to do that is `tf.GradientTape`, which we will describe. \n",
        "\n",
        "At last we will create a simple training loop to learn the weights of a 1-dim linear regression using synthetic data generated from a linear model. \n",
        "\n",
        "As a bonus exercise, we will do the same for data generated from a non linear model, forcing us to manual engineer non-linear features to improve our linear model performance.\n"
      ]
    },
    {
      "cell_type": "code",
      "metadata": {
        "id": "kwNw46MXvBW5"
      },
      "source": [
        "import numpy as np\n",
        "from matplotlib import pyplot as plt"
      ],
      "execution_count": 56,
      "outputs": []
    },
    {
      "cell_type": "markdown",
      "metadata": {
        "id": "Px1CJ2GqvSuo"
      },
      "source": [
        "## **Operations on tensors**\n",
        "\n",
        "### Variables and Constants\n",
        "\n",
        "Tensors in TensorFlow are either contant (`tf.constant`) or variables (`tf.Variable`).\n",
        "Constant values can not be changed, while variables values can be.\n",
        "\n",
        "The main difference is that instances of `tf.Variable` have methods allowing us to change \n",
        "their values while tensors constructed with `tf.constant` don't have these methods, and\n",
        "therefore their values can not be changed. When you want to change the value of a `tf.Variable`\n",
        "`x` use one of the following method: \n",
        "\n",
        "* `x.assign(new_value)`\n",
        "* `x.assign_add(value_to_be_added)`\n",
        "* `x.assign_sub(value_to_be_subtracted`\n"
      ]
    },
    {
      "cell_type": "code",
      "metadata": {
        "colab": {
          "base_uri": "https://localhost:8080/"
        },
        "id": "xYbMSnJlvtVk",
        "outputId": "0732ed30-186d-45da-aacc-a6623ae828fe"
      },
      "source": [
        "x = tf.constant([2, 3, 4])\n",
        "x"
      ],
      "execution_count": 57,
      "outputs": [
        {
          "output_type": "execute_result",
          "data": {
            "text/plain": [
              "<tf.Tensor: shape=(3,), dtype=int32, numpy=array([2, 3, 4], dtype=int32)>"
            ]
          },
          "metadata": {
            "tags": []
          },
          "execution_count": 57
        }
      ]
    },
    {
      "cell_type": "code",
      "metadata": {
        "id": "P_NBkuDwvtj6"
      },
      "source": [
        "x = tf.Variable(2.0, dtype=tf.float32, name='my_variable')"
      ],
      "execution_count": 58,
      "outputs": []
    },
    {
      "cell_type": "code",
      "metadata": {
        "colab": {
          "base_uri": "https://localhost:8080/"
        },
        "id": "3HstA0k0vtnP",
        "outputId": "f4b6ea37-a8f9-4248-ea04-df3d5854942c"
      },
      "source": [
        "x.assign(45.8)\n",
        "x"
      ],
      "execution_count": 59,
      "outputs": [
        {
          "output_type": "execute_result",
          "data": {
            "text/plain": [
              "<tf.Variable 'my_variable:0' shape=() dtype=float32, numpy=45.8>"
            ]
          },
          "metadata": {
            "tags": []
          },
          "execution_count": 59
        }
      ]
    },
    {
      "cell_type": "code",
      "metadata": {
        "colab": {
          "base_uri": "https://localhost:8080/"
        },
        "id": "x9dCIIfPvtqT",
        "outputId": "85922f99-fea1-47c8-d08c-284d1941bd7b"
      },
      "source": [
        "x.assign_add(4) \n",
        "x"
      ],
      "execution_count": 60,
      "outputs": [
        {
          "output_type": "execute_result",
          "data": {
            "text/plain": [
              "<tf.Variable 'my_variable:0' shape=() dtype=float32, numpy=49.8>"
            ]
          },
          "metadata": {
            "tags": []
          },
          "execution_count": 60
        }
      ]
    },
    {
      "cell_type": "code",
      "metadata": {
        "colab": {
          "base_uri": "https://localhost:8080/"
        },
        "id": "b3fsuvE7v43K",
        "outputId": "e38253aa-a58e-4e48-dc2e-cf6c0b1a7649"
      },
      "source": [
        "x.assign_sub(3)\n",
        "x"
      ],
      "execution_count": 61,
      "outputs": [
        {
          "output_type": "execute_result",
          "data": {
            "text/plain": [
              "<tf.Variable 'my_variable:0' shape=() dtype=float32, numpy=46.8>"
            ]
          },
          "metadata": {
            "tags": []
          },
          "execution_count": 61
        }
      ]
    },
    {
      "cell_type": "markdown",
      "metadata": {
        "id": "g-zCgui5v-yS"
      },
      "source": [
        "## **Point wise Operators**\n",
        "\n",
        "Tensorflow offers similar point-wise tensor operations as numpy does:\n",
        "    \n",
        "* `tf.add` allows to add the components of a tensor \n",
        "* `tf.multiply` allows us to multiply the components of a tensor\n",
        "* `tf.subtract` allow us to substract the components of a tensor\n",
        "* `tf.math.*` contains the usual math operations to be applied on the components of a tensor\n",
        "* and many more...\n",
        "\n",
        "Most of the standard arithmetic operations (`tf.add`, `tf.substrac`, etc.) are overloaded by the usual corresponding arithmetic symbols (`+`, `-`, etc.)"
      ]
    },
    {
      "cell_type": "markdown",
      "metadata": {
        "id": "TIMRNHI4wkMY"
      },
      "source": [
        "**Lab Task #1:** Performing basic operations on Tensors \n",
        "1. Compute the sum of the constants `a` and `b` below using `tf.add` and `+` and verify both operations produce the same values.\n",
        "2. Compute the product of the constants `a` and `b` below using `tf.multiply` and `*` and verify both operations produce the same values.\n",
        "3. Compute the exponential of the constant `a` using `tf.math.exp`. Note, you'll need to specify the type for this operation.\n"
      ]
    },
    {
      "cell_type": "code",
      "metadata": {
        "colab": {
          "base_uri": "https://localhost:8080/"
        },
        "id": "B-H-P3gRwiMD",
        "outputId": "951c17d1-3e02-4888-8da6-e1a133176556"
      },
      "source": [
        "# Creates a constant tensor from a tensor-like object.\n",
        "a = tf.constant([5, 3, 8]) # TODO 1a\n",
        "b = tf.constant([3, -1, 2])\n",
        "# Using the .add() method components of a tensor will be added.\n",
        "c = tf.add(a, b)\n",
        "d = a + b\n",
        "\n",
        "# Let's output the value of `c` and `d`.\n",
        "print(\"c:\", c)\n",
        "print(\"d:\", d)"
      ],
      "execution_count": 62,
      "outputs": [
        {
          "output_type": "stream",
          "text": [
            "c: tf.Tensor([ 8  2 10], shape=(3,), dtype=int32)\n",
            "d: tf.Tensor([ 8  2 10], shape=(3,), dtype=int32)\n"
          ],
          "name": "stdout"
        }
      ]
    },
    {
      "cell_type": "code",
      "metadata": {
        "colab": {
          "base_uri": "https://localhost:8080/"
        },
        "id": "eMeuhygOx3A-",
        "outputId": "04ae3ebc-3094-4c5e-dd17-1383a2e34e21"
      },
      "source": [
        "# Creates a constant tensor from a tensor-like object.\n",
        "a = tf.constant([5, 3, 8]) # TODO 1b\n",
        "b = tf.constant([3, -1, 2])\n",
        "# Using the .multiply() method components of a tensor will be multiplied.\n",
        "c = tf.multiply(a, b)\n",
        "d = a * b\n",
        "\n",
        "# Let's output the value of `c` and `d`.\n",
        "print(\"c:\", c)\n",
        "print(\"d:\", d)"
      ],
      "execution_count": 63,
      "outputs": [
        {
          "output_type": "stream",
          "text": [
            "c: tf.Tensor([15 -3 16], shape=(3,), dtype=int32)\n",
            "d: tf.Tensor([15 -3 16], shape=(3,), dtype=int32)\n"
          ],
          "name": "stdout"
        }
      ]
    },
    {
      "cell_type": "code",
      "metadata": {
        "colab": {
          "base_uri": "https://localhost:8080/"
        },
        "id": "bu7D6MfUyLnv",
        "outputId": "b7d36dd4-1728-47a8-d8c5-6c089db94551"
      },
      "source": [
        "# TODO 1c\n",
        "# tf.math.exp expects floats so we need to explicitly give the type\n",
        "a = tf.constant([5, 3, 8], dtype=tf.float32)\n",
        "b = tf.math.exp(a)\n",
        "\n",
        "# Let's output the value of `b`.\n",
        "print(\"b:\", b)"
      ],
      "execution_count": 64,
      "outputs": [
        {
          "output_type": "stream",
          "text": [
            "b: tf.Tensor([ 148.41316    20.085537 2980.958   ], shape=(3,), dtype=float32)\n"
          ],
          "name": "stdout"
        }
      ]
    },
    {
      "cell_type": "markdown",
      "metadata": {
        "id": "rKTyNDIAyRN6"
      },
      "source": [
        "## **NumPy Interoperability**\n",
        "\n",
        "In addition to native TF tensors, tensorflow operations can take native python types and NumPy arrays as operands."
      ]
    },
    {
      "cell_type": "code",
      "metadata": {
        "id": "oBI3V9QOyWWo"
      },
      "source": [
        "# native python list\n",
        "a_py = [1, 2] \n",
        "b_py = [3, 4]"
      ],
      "execution_count": 65,
      "outputs": []
    },
    {
      "cell_type": "code",
      "metadata": {
        "colab": {
          "base_uri": "https://localhost:8080/"
        },
        "id": "1NZm0vTdycF-",
        "outputId": "2cfcceff-fbb3-4857-a9de-c3ec44b16e03"
      },
      "source": [
        "\n",
        "# Using the .add() method components of a tensor will be added.\n",
        "tf.add(a_py, b_py)"
      ],
      "execution_count": 66,
      "outputs": [
        {
          "output_type": "execute_result",
          "data": {
            "text/plain": [
              "<tf.Tensor: shape=(2,), dtype=int32, numpy=array([4, 6], dtype=int32)>"
            ]
          },
          "metadata": {
            "tags": []
          },
          "execution_count": 66
        }
      ]
    },
    {
      "cell_type": "code",
      "metadata": {
        "id": "HvrZsStjycPx"
      },
      "source": [
        "# numpy arrays\n",
        "a_np = np.array([1, 2])\n",
        "b_np = np.array([3, 4])"
      ],
      "execution_count": 67,
      "outputs": []
    },
    {
      "cell_type": "code",
      "metadata": {
        "colab": {
          "base_uri": "https://localhost:8080/"
        },
        "id": "3KA8yAccycTR",
        "outputId": "e87a2576-e7d2-4d5c-c74f-e7ca840e4e45"
      },
      "source": [
        "# Using the .add() method components of a tensor will be added.\n",
        "tf.add(a_np, b_np)"
      ],
      "execution_count": 68,
      "outputs": [
        {
          "output_type": "execute_result",
          "data": {
            "text/plain": [
              "<tf.Tensor: shape=(2,), dtype=int64, numpy=array([4, 6])>"
            ]
          },
          "metadata": {
            "tags": []
          },
          "execution_count": 68
        }
      ]
    },
    {
      "cell_type": "code",
      "metadata": {
        "id": "mS2bMfOTyjXv"
      },
      "source": [
        "\n",
        "# native TF tensor\n",
        "a_tf = tf.constant([1, 2])\n",
        "b_tf = tf.constant([3, 4])"
      ],
      "execution_count": 69,
      "outputs": []
    },
    {
      "cell_type": "code",
      "metadata": {
        "colab": {
          "base_uri": "https://localhost:8080/"
        },
        "id": "PrgxzCC-yllG",
        "outputId": "2195a33c-a0e2-481d-a578-646bb0140048"
      },
      "source": [
        "\n",
        "# Using the .add() method components of a tensor will be added.\n",
        "tf.add(a_tf, b_tf)"
      ],
      "execution_count": 70,
      "outputs": [
        {
          "output_type": "execute_result",
          "data": {
            "text/plain": [
              "<tf.Tensor: shape=(2,), dtype=int32, numpy=array([4, 6], dtype=int32)>"
            ]
          },
          "metadata": {
            "tags": []
          },
          "execution_count": 70
        }
      ]
    },
    {
      "cell_type": "code",
      "metadata": {
        "colab": {
          "base_uri": "https://localhost:8080/"
        },
        "id": "-Fo-hHCSyoFg",
        "outputId": "354e047e-d3c5-4f10-eb90-c42156d4cf6f"
      },
      "source": [
        "\n",
        "# Here using the .numpy() method we'll convert a `native TF tensor` to a `NumPy array`.\n",
        "a_tf.numpy()"
      ],
      "execution_count": 71,
      "outputs": [
        {
          "output_type": "execute_result",
          "data": {
            "text/plain": [
              "array([1, 2], dtype=int32)"
            ]
          },
          "metadata": {
            "tags": []
          },
          "execution_count": 71
        }
      ]
    },
    {
      "cell_type": "markdown",
      "metadata": {
        "id": "Tj25GcXjywPc"
      },
      "source": [
        "## **Linear Regression**\n",
        "\n",
        "Now let's use low level tensorflow operations to implement linear regression.\n",
        "\n",
        "Later in the course you'll see abstracted ways to do this using high level TensorFlow.\n",
        "\n",
        "### Toy Dataset\n",
        "\n",
        "We'll model the following function:\n",
        "\n",
        "\\begin{equation}\n",
        "y= 2x + 10\n",
        "\\end{equation}"
      ]
    },
    {
      "cell_type": "code",
      "metadata": {
        "colab": {
          "base_uri": "https://localhost:8080/"
        },
        "id": "huHrKCfHy387",
        "outputId": "32a47a28-85f1-4646-9407-6d6bd28e9d71"
      },
      "source": [
        "X = tf.constant(range(10), dtype=tf.float32)\n",
        "Y = 2 * X + 10\n",
        "\n",
        "print(\"X:{}\".format(X))\n",
        "print(\"Y:{}\".format(Y))"
      ],
      "execution_count": 72,
      "outputs": [
        {
          "output_type": "stream",
          "text": [
            "X:[0. 1. 2. 3. 4. 5. 6. 7. 8. 9.]\n",
            "Y:[10. 12. 14. 16. 18. 20. 22. 24. 26. 28.]\n"
          ],
          "name": "stdout"
        }
      ]
    },
    {
      "cell_type": "markdown",
      "metadata": {
        "id": "Wdc1EZnky-_U"
      },
      "source": [
        "Let's also create a test dataset to evaluate our models:"
      ]
    },
    {
      "cell_type": "code",
      "metadata": {
        "colab": {
          "base_uri": "https://localhost:8080/"
        },
        "id": "VGQSE8HAzBQb",
        "outputId": "25c289ff-879a-4288-f537-b23586a745a2"
      },
      "source": [
        "X_test = tf.constant(range(10, 20), dtype=tf.float32)\n",
        "Y_test = 2 * X_test + 10\n",
        "\n",
        "print(\"X_test:{}\".format(X_test))\n",
        "print(\"Y_test:{}\".format(Y_test))"
      ],
      "execution_count": 73,
      "outputs": [
        {
          "output_type": "stream",
          "text": [
            "X_test:[10. 11. 12. 13. 14. 15. 16. 17. 18. 19.]\n",
            "Y_test:[30. 32. 34. 36. 38. 40. 42. 44. 46. 48.]\n"
          ],
          "name": "stdout"
        }
      ]
    },
    {
      "cell_type": "markdown",
      "metadata": {
        "id": "RnutUEEWzF80"
      },
      "source": [
        "## **Loss Function:**\n",
        "\n",
        "The simplest model we can build is a model that for each value of x returns the sample mean of the training set:"
      ]
    },
    {
      "cell_type": "code",
      "metadata": {
        "id": "kJj1vpyrzNYS"
      },
      "source": [
        "y_mean = Y.numpy().mean()\n",
        "\n",
        "\n",
        "def predict_mean(X):\n",
        "    y_hat = [y_mean] * len(X)\n",
        "    return y_hat\n",
        "\n",
        "Y_hat = predict_mean(X_test)"
      ],
      "execution_count": 74,
      "outputs": []
    },
    {
      "cell_type": "markdown",
      "metadata": {
        "id": "iopyNtn_zQhQ"
      },
      "source": [
        "Using mean squared error, our loss is:\n",
        "\\begin{equation}\n",
        "MSE = \\frac{1}{m}\\sum_{i=1}^{m}(\\hat{Y}_i-Y_i)^2\n",
        "\\end{equation}\n",
        "\n",
        "For this simple model the loss is then:\n"
      ]
    },
    {
      "cell_type": "code",
      "metadata": {
        "colab": {
          "base_uri": "https://localhost:8080/"
        },
        "id": "kF_2rz5kzX4l",
        "outputId": "1d222d23-d3f6-4c19-8482-b626f617799d"
      },
      "source": [
        "errors = (Y_hat - Y)**2\n",
        "loss = tf.reduce_mean(errors)\n",
        "loss.numpy()"
      ],
      "execution_count": 75,
      "outputs": [
        {
          "output_type": "execute_result",
          "data": {
            "text/plain": [
              "33.0"
            ]
          },
          "metadata": {
            "tags": []
          },
          "execution_count": 75
        }
      ]
    },
    {
      "cell_type": "markdown",
      "metadata": {
        "id": "cj06XrBazbR7"
      },
      "source": [
        "This values for the MSE loss above will give us a baseline to compare how a more complex model is doing.\n",
        "\n",
        "Now, if $\\hat{Y}$ represents the vector containing our model's predictions when we use a linear regression model\n",
        "\\begin{equation}\n",
        "\\hat{Y} = w_0X + w_1\n",
        "\\end{equation}\n",
        "\n",
        "we can write a loss function taking as arguments the coefficients of the model:"
      ]
    },
    {
      "cell_type": "code",
      "metadata": {
        "id": "Hw8_JW-rzlOY"
      },
      "source": [
        "def loss_mse(X, Y, w0, w1):\n",
        "    Y_hat = w0 * X + w1\n",
        "    errors = (Y_hat - Y)**2\n",
        "    return tf.reduce_mean(errors)"
      ],
      "execution_count": 76,
      "outputs": []
    },
    {
      "cell_type": "markdown",
      "metadata": {
        "id": "cugvl6rizpEW"
      },
      "source": [
        "### **Gradient Function**\n",
        "\n",
        "To use gradient descent we need to take the partial derivatives of the loss function with respect to each of the weights. We could manually compute the derivatives, but with Tensorflow's automatic differentiation capabilities we don't have to!\n",
        "\n",
        "During gradient descent we think of the loss as a function of the parameters $w_0$ and $w_1$. Thus, we want to compute the partial derivative with respect to these variables. \n",
        "\n",
        "For that we need to wrap our loss computation within the context of `tf.GradientTape` instance which will record gradient information:\n",
        "\n",
        "```python\n",
        "with tf.GradientTape() as tape:\n",
        "    loss = # computation \n",
        "```\n",
        "\n",
        "This will allow us to later compute the gradients of any tensor computed within the `tf.GradientTape` context with respect to instances of `tf.Variable`:\n",
        "\n",
        "```python\n",
        "gradients = tape.gradient(loss, [w0, w1])\n",
        "```\n",
        "\n",
        "\n",
        "We illustrate this procedure by computing the loss gradients with respect to the model weights:"
      ]
    },
    {
      "cell_type": "code",
      "metadata": {
        "id": "t9X1UBqIzt24"
      },
      "source": [
        "# Let's define compute_gradients() procedure for computing the loss gradients with respect to the model weights:\n",
        "\n",
        "def compute_gradients(X, Y, w0, w1):\n",
        "    with tf.GradientTape() as tape:\n",
        "        loss = loss_mse(X, Y, w0, w1)\n",
        "    return tape.gradient(loss, [w0, w1])"
      ],
      "execution_count": 77,
      "outputs": []
    },
    {
      "cell_type": "code",
      "metadata": {
        "id": "0gHVO3jEz_Q3"
      },
      "source": [
        "# The Variable() constructor requires an initial value for the variable, which can be a Tensor of any type and shape.\n",
        "w0 = tf.Variable(0.0)\n",
        "w1 = tf.Variable(0.0)\n",
        "\n",
        "dw0, dw1 = compute_gradients(X, Y, w0, w1)"
      ],
      "execution_count": 78,
      "outputs": []
    },
    {
      "cell_type": "code",
      "metadata": {
        "colab": {
          "base_uri": "https://localhost:8080/"
        },
        "id": "orbv_fG40EA0",
        "outputId": "a06eaed5-95d3-4517-f155-a1382cb3c81d"
      },
      "source": [
        "\n",
        "# Let's output the value of `dw0`.\n",
        "print(\"dw0:\", dw0.numpy())"
      ],
      "execution_count": 79,
      "outputs": [
        {
          "output_type": "stream",
          "text": [
            "dw0: -204.0\n"
          ],
          "name": "stdout"
        }
      ]
    },
    {
      "cell_type": "code",
      "metadata": {
        "colab": {
          "base_uri": "https://localhost:8080/"
        },
        "id": "5_ps5cnO0GLK",
        "outputId": "a8b36025-5aa7-4a28-89d8-a8675fc46d84"
      },
      "source": [
        "\n",
        "# Let's output the value of `dw1`.\n",
        "print(\"dw1\", dw1.numpy())"
      ],
      "execution_count": 80,
      "outputs": [
        {
          "output_type": "stream",
          "text": [
            "dw1 -38.0\n"
          ],
          "name": "stdout"
        }
      ]
    },
    {
      "cell_type": "markdown",
      "metadata": {
        "id": "BM566q7Q0Mqi"
      },
      "source": [
        "### **Training Loop**\n",
        "\n",
        "Here we have a very simple training loop that converges. Note we are ignoring best practices like batching, creating a separate test set, and random weight initialization for the sake of simplicity."
      ]
    },
    {
      "cell_type": "markdown",
      "metadata": {
        "id": "B95LvTEA0TWR"
      },
      "source": [
        "**Lab Task #3:** Complete the `for` loop below to train a linear regression. \n",
        "1. Use `compute_gradients` to compute `dw0` and `dw1`.\n",
        "2. Then, re-assign the value of `w0` and `w1` using the `.assign_sub(...)` method with the computed gradient values and the `LEARNING_RATE`.\n",
        "3. Finally, for every 100th step , we'll compute and print the `loss`. Use the `loss_mse` function we created above to compute the `loss`. "
      ]
    },
    {
      "cell_type": "code",
      "metadata": {
        "colab": {
          "base_uri": "https://localhost:8080/"
        },
        "id": "j3ILlYjh0ZqW",
        "outputId": "75c64018-dc98-4490-df27-e16768d5372c"
      },
      "source": [
        "STEPS = 1000\n",
        "LEARNING_RATE = .02\n",
        "MSG = \"STEP {step} - loss: {loss}, w0: {w0}, w1: {w1}\\n\"\n",
        "\n",
        "\n",
        "# The Variable() constructor requires an initial value for the variable, which can be a Tensor of any type and shape.\n",
        "w0 = tf.Variable(0.0)\n",
        "w1 = tf.Variable(0.0)\n",
        "\n",
        "\n",
        "for step in range(0, STEPS + 1):\n",
        "\n",
        "    dw0, dw1 = compute_gradients(X, Y, w0, w1)\n",
        "    w0.assign_sub(dw0 * LEARNING_RATE)\n",
        "    w1.assign_sub(dw1 * LEARNING_RATE)\n",
        "\n",
        "    if step % 100 == 0:\n",
        "        loss = loss_mse(X, Y, w0, w1)\n",
        "        print(MSG.format(step=step, loss=loss, w0=w0.numpy(), w1=w1.numpy()))"
      ],
      "execution_count": 81,
      "outputs": [
        {
          "output_type": "stream",
          "text": [
            "STEP 0 - loss: 35.70719528198242, w0: 4.079999923706055, w1: 0.7599999904632568\n",
            "\n",
            "STEP 100 - loss: 2.6017532348632812, w0: 2.4780430793762207, w1: 7.002389907836914\n",
            "\n",
            "STEP 200 - loss: 0.26831889152526855, w0: 2.153517961502075, w1: 9.037351608276367\n",
            "\n",
            "STEP 300 - loss: 0.027671903371810913, w0: 2.0493006706237793, w1: 9.690855979919434\n",
            "\n",
            "STEP 400 - loss: 0.0028539239428937435, w0: 2.0158326625823975, w1: 9.90071964263916\n",
            "\n",
            "STEP 500 - loss: 0.0002943490108009428, w0: 2.005084753036499, w1: 9.96811580657959\n",
            "\n",
            "STEP 600 - loss: 3.0356444767676294e-05, w0: 2.0016329288482666, w1: 9.989760398864746\n",
            "\n",
            "STEP 700 - loss: 3.1322738323069643e-06, w0: 2.0005245208740234, w1: 9.996710777282715\n",
            "\n",
            "STEP 800 - loss: 3.2238213520940917e-07, w0: 2.0001683235168457, w1: 9.998944282531738\n",
            "\n",
            "STEP 900 - loss: 3.369950718479231e-08, w0: 2.000054359436035, w1: 9.999658584594727\n",
            "\n",
            "STEP 1000 - loss: 3.6101481803996194e-09, w0: 2.0000178813934326, w1: 9.99988842010498\n",
            "\n"
          ],
          "name": "stdout"
        }
      ]
    },
    {
      "cell_type": "code",
      "metadata": {
        "colab": {
          "base_uri": "https://localhost:8080/"
        },
        "id": "BKN6mHn70dQn",
        "outputId": "b50b15b1-d02c-4db3-eb79-7a081a5d0cc2"
      },
      "source": [
        "# Here we can compare the test loss for this linear regression to the test loss from the baseline model.\n",
        "# Its output will always be the mean of the training set:\n",
        "loss = loss_mse(X_test, Y_test, w0, w1)\n",
        "loss.numpy()"
      ],
      "execution_count": 82,
      "outputs": [
        {
          "output_type": "execute_result",
          "data": {
            "text/plain": [
              "2.4563633e-08"
            ]
          },
          "metadata": {
            "tags": []
          },
          "execution_count": 82
        }
      ]
    },
    {
      "cell_type": "markdown",
      "metadata": {
        "id": "HUkbs3ET0ktR"
      },
      "source": [
        "This is indeed much better!"
      ]
    },
    {
      "cell_type": "markdown",
      "metadata": {
        "id": "AnMZpNQb0rVe"
      },
      "source": [
        "## **Bonus **\n",
        "***(Try this after class and share your outcomes what you understand at server)***"
      ]
    },
    {
      "cell_type": "markdown",
      "metadata": {
        "id": "SGqTZgQQ0-tK"
      },
      "source": [
        "Try modeling a non-linear function such as: $y=xe^{-x^2}$"
      ]
    },
    {
      "cell_type": "code",
      "metadata": {
        "id": "vnM1SO741CRq"
      },
      "source": [
        "X = tf.constant(np.linspace(0, 2, 1000), dtype=tf.float32)\n",
        "Y = X * tf.exp(-X**2)"
      ],
      "execution_count": 83,
      "outputs": []
    },
    {
      "cell_type": "code",
      "metadata": {
        "colab": {
          "base_uri": "https://localhost:8080/",
          "height": 283
        },
        "id": "2n8gAllT1E-j",
        "outputId": "6847302c-fde8-4622-8603-ecd0d7a00ba8"
      },
      "source": [
        "%matplotlib inline\n",
        "\n",
        "# The .plot() is a versatile function, and will take an arbitrary number of arguments. For example, to plot x versus y.\n",
        "plt.plot(X, Y)"
      ],
      "execution_count": 84,
      "outputs": [
        {
          "output_type": "execute_result",
          "data": {
            "text/plain": [
              "[<matplotlib.lines.Line2D at 0x7f052a89d160>]"
            ]
          },
          "metadata": {
            "tags": []
          },
          "execution_count": 84
        },
        {
          "output_type": "display_data",
          "data": {
            "image/png": "[encoded data removed]",
            "text/plain": [
              "<Figure size 432x288 with 1 Axes>"
            ]
          },
          "metadata": {
            "tags": [],
            "needs_background": "light"
          }
        }
      ]
    },
    {
      "cell_type": "code",
      "metadata": {
        "id": "XrunBlRe1IBN"
      },
      "source": [
        "# Let's make_features() procedure.\n",
        "def make_features(X):\n",
        "# The tf.ones_like() method will create a tensor of all ones that has the same shape as the input.\n",
        "    f1 = tf.ones_like(X)\n",
        "    f2 = X\n",
        "# The tf.square() method will compute square of input tensor element-wise.\n",
        "    f3 = tf.square(X)\n",
        "# The tf.sqrt() method will compute element-wise square root of the input tensor.\n",
        "    f4 = tf.sqrt(X)\n",
        "# The tf.exp() method will compute exponential of input tensor element-wise.\n",
        "    f5 = tf.exp(X)\n",
        "# The tf.stack() method will stacks a list of rank-R tensors into one rank-(R+1) tensor.\n",
        "    return tf.stack([f1, f2, f3, f4, f5], axis=1)"
      ],
      "execution_count": 85,
      "outputs": []
    },
    {
      "cell_type": "code",
      "metadata": {
        "id": "1plDs3PP1L2t"
      },
      "source": [
        "# Let's define predict() procedure that will remove dimensions of size 1 from the shape of a tensor.\n",
        "def predict(X, W):\n",
        "    return tf.squeeze(X @ W, -1)"
      ],
      "execution_count": 86,
      "outputs": []
    },
    {
      "cell_type": "code",
      "metadata": {
        "id": "FC5O3ueE1Rlm"
      },
      "source": [
        "# Let's define loss_mse() procedure that will evaluate the mean of elements across dimensions of a tensor.\n",
        "def loss_mse(X, Y, W):\n",
        "    Y_hat = predict(X, W)\n",
        "    errors = (Y_hat - Y)**2\n",
        "    return tf.reduce_mean(errors)"
      ],
      "execution_count": 87,
      "outputs": []
    },
    {
      "cell_type": "code",
      "metadata": {
        "id": "2YAOBolk1UYX"
      },
      "source": [
        "# Let's define compute_gradients() procedure for computing the loss gradients.\n",
        "def compute_gradients(X, Y, W):\n",
        "    with tf.GradientTape() as tape:\n",
        "        loss = loss_mse(Xf, Y, W)\n",
        "    return tape.gradient(loss, W)"
      ],
      "execution_count": 88,
      "outputs": []
    },
    {
      "cell_type": "code",
      "metadata": {
        "colab": {
          "base_uri": "https://localhost:8080/",
          "height": 285
        },
        "id": "3sHu0is01Yb9",
        "outputId": "9c69f2f6-a333-47b0-e617-22a9ba4417c0"
      },
      "source": [
        "STEPS = 2000\n",
        "LEARNING_RATE = .02\n",
        "\n",
        "\n",
        "Xf = make_features(X)\n",
        "n_weights = Xf.shape[1]\n",
        "\n",
        "W = tf.Variable(np.zeros((n_weights, 1)), dtype=tf.float32)\n",
        "\n",
        "# For plotting\n",
        "steps, losses = [], []\n",
        "plt.figure()\n",
        "\n",
        "\n",
        "for step in range(1, STEPS + 1):\n",
        "\n",
        "    dW = compute_gradients(X, Y, W)\n",
        "    W.assign_sub(dW * LEARNING_RATE)\n",
        "\n",
        "    if step % 100 == 0:\n",
        "        loss = loss_mse(Xf, Y, W)\n",
        "        steps.append(step)\n",
        "        losses.append(loss)\n",
        "        plt.clf()\n",
        "        plt.plot(steps, losses)\n",
        "\n",
        "\n",
        "print(\"STEP: {} MSE: {}\".format(STEPS, loss_mse(Xf, Y, W)))"
      ],
      "execution_count": 89,
      "outputs": [
        {
          "output_type": "stream",
          "text": [
            "STEP: 2000 MSE: 0.0023767943494021893\n"
          ],
          "name": "stdout"
        },
        {
          "output_type": "display_data",
          "data": {
            "image/png": "[encoded data removed]",
            "text/plain": [
              "<Figure size 432x288 with 1 Axes>"
            ]
          },
          "metadata": {
            "tags": [],
            "needs_background": "light"
          }
        }
      ]
    },
    {
      "cell_type": "code",
      "metadata": {
        "colab": {
          "base_uri": "https://localhost:8080/",
          "height": 283
        },
        "id": "fCEvalax1cz5",
        "outputId": "0479b350-8192-4ce6-e057-9c871cef8e38"
      },
      "source": [
        "# The .figure() method will create a new figure, or activate an existing figure.\n",
        "plt.figure()\n",
        "# The .plot() is a versatile function, and will take an arbitrary number of arguments. For example, to plot x versus y.\n",
        "plt.plot(X, Y, label='actual')\n",
        "plt.plot(X, predict(Xf, W), label='predicted')\n",
        "# The .legend() method will place a legend on the axes.\n",
        "plt.legend()"
      ],
      "execution_count": 90,
      "outputs": [
        {
          "output_type": "execute_result",
          "data": {
            "text/plain": [
              "<matplotlib.legend.Legend at 0x7f052a3de7b8>"
            ]
          },
          "metadata": {
            "tags": []
          },
          "execution_count": 90
        },
        {
          "output_type": "display_data",
          "data": {
            "image/png": "[encoded data removed]",
            "text/plain": [
              "<Figure size 432x288 with 1 Axes>"
            ]
          },
          "metadata": {
            "tags": [],
            "needs_background": "light"
          }
        }
      ]
    }
  ]
}